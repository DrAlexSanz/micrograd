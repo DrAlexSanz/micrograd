{
  "cells": [
    {
      "cell_type": "markdown",
      "metadata": {
        "id": "view-in-github",
        "colab_type": "text"
      },
      "source": [
        "<a href=\"https://colab.research.google.com/github/DrAlexSanz/micrograd/blob/main/Micrograd.ipynb\" target=\"_parent\"><img src=\"https://colab.research.google.com/assets/colab-badge.svg\" alt=\"Open In Colab\"/></a>"
      ]
    },
    {
      "cell_type": "markdown",
      "metadata": {
        "id": "n09nqI5a7dFg"
      },
      "source": [
        "# Goal of this notebook\n",
        "\n",
        "* Understand how does automatic differentiation work\n",
        "\n",
        "Lecture here https://www.youtube.com/watch?v=VMj-3S1tku0&list=PLAqhIrjkxbuWI23v9cThsA9GvCAUhRvKZ&index=1"
      ]
    },
    {
      "cell_type": "code",
      "execution_count": 1,
      "metadata": {
        "id": "B1mucd5kiisR"
      },
      "outputs": [],
      "source": [
        "import math\n",
        "from graphviz import Digraph\n",
        "import numpy as np\n",
        "import matplotlib.pyplot as plt\n"
      ]
    },
    {
      "cell_type": "code",
      "execution_count": 2,
      "metadata": {
        "colab": {
          "base_uri": "https://localhost:8080/"
        },
        "id": "P0HMfBUo7dFm",
        "outputId": "ed16ffc2-5b6f-47c9-b5d2-91ba5a42e043"
      },
      "outputs": [
        {
          "output_type": "execute_result",
          "data": {
            "text/plain": [
              "20.0"
            ]
          },
          "metadata": {},
          "execution_count": 2
        }
      ],
      "source": [
        "# Make a function to demonstrate operations\n",
        "def f(x):\n",
        "    return 3*x**2 - 4*x +5\n",
        "\n",
        "f(3.0)"
      ]
    },
    {
      "cell_type": "code",
      "execution_count": 3,
      "metadata": {
        "colab": {
          "base_uri": "https://localhost:8080/",
          "height": 469
        },
        "id": "EBUmEOYe7dFo",
        "outputId": "dd9e5d6b-160f-40c3-e832-803c76603edd"
      },
      "outputs": [
        {
          "output_type": "execute_result",
          "data": {
            "text/plain": [
              "Text(0.5, 1.0, 'Beautiful parabola')"
            ]
          },
          "metadata": {},
          "execution_count": 3
        },
        {
          "output_type": "display_data",
          "data": {
            "text/plain": [
              "<Figure size 640x480 with 1 Axes>"
            ],
            "image/png": "[encoded data removed]"
          },
          "metadata": {}
        }
      ],
      "source": [
        "xs = np.arange(-5, 5, 0.25) # Now get a vector of inputs and pass it to the function for plotting\n",
        "\n",
        "ys = f(xs)\n",
        "\n",
        "plt.plot(xs, ys)\n",
        "plt.title(\"Beautiful parabola\")"
      ]
    },
    {
      "cell_type": "markdown",
      "metadata": {
        "id": "vZ_1347F7dFp"
      },
      "source": [
        "Now, I could calculate the derivative using the rules because it's an easy one. Alternatively I can use the definition of derivative.\n",
        "\n",
        "$$ f'(x) = lim_{x \\rightarrow 0} \\frac{f(x + h) - f(x)}{h} $$\n"
      ]
    },
    {
      "cell_type": "code",
      "execution_count": 4,
      "metadata": {
        "colab": {
          "base_uri": "https://localhost:8080/"
        },
        "id": "oICLJVMm7dFp",
        "outputId": "1d757155-f6be-43d7-8637-6df439eaf7eb"
      },
      "outputs": [
        {
          "output_type": "stream",
          "name": "stdout",
          "text": [
            "f(x + h) = 20.0001400003\n",
            "f(x) = 20.0\n",
            "f'(3) = 14.00003000000538\n"
          ]
        }
      ],
      "source": [
        "# I define\n",
        "h = 0.00001 # Too small and the numerator will underflow.\n",
        "x = 3.0\n",
        "print(f\"f(x + h) = {f(x + h)}\")\n",
        "print(f\"f(x) = {f(x)}\")\n",
        "der = (f(x + h) - f(x))/h\n",
        "print(f\"f'(3) = {der}\") # This should be 14 with a small error.\n"
      ]
    },
    {
      "cell_type": "code",
      "execution_count": 5,
      "metadata": {
        "colab": {
          "base_uri": "https://localhost:8080/"
        },
        "id": "gKoZGG0X7dFq",
        "outputId": "00a67e55-65c4-409a-b0b2-42000297662b"
      },
      "outputs": [
        {
          "output_type": "stream",
          "name": "stdout",
          "text": [
            "f(x + h) = 43.9997800003\n",
            "f(x) = 44.0\n",
            "f'(3) = -21.999970000052823\n"
          ]
        }
      ],
      "source": [
        "# And now for the negative side, the derivative should be negative\n",
        "h = 0.00001 # Too small and the numerator will underflow.\n",
        "x = -3.0\n",
        "print(f\"f(x + h) = {f(x + h)}\")\n",
        "print(f\"f(x) = {f(x)}\")\n",
        "der = (f(x + h) - f(x))/h\n",
        "print(f\"f'(3) = {der}\") # This should be 14 with a small error.\n"
      ]
    },
    {
      "cell_type": "code",
      "execution_count": 6,
      "metadata": {
        "colab": {
          "base_uri": "https://localhost:8080/"
        },
        "id": "Y2qnzdes7dFq",
        "outputId": "1b86ba52-972c-4fe3-8581-86738b0df2ad"
      },
      "outputs": [
        {
          "output_type": "stream",
          "name": "stdout",
          "text": [
            "f(x + h) = 3.666666666966667\n",
            "f(x) = 3.666666666666667\n",
            "f'(3) = 3.0000002482211127e-05\n"
          ]
        }
      ],
      "source": [
        "# And now I know that the minimum is at 2/3 more or less\n",
        "h = 0.00001 # Too small and the numerator will underflow.\n",
        "x = 2/3\n",
        "print(f\"f(x + h) = {f(x + h)}\")\n",
        "print(f\"f(x) = {f(x)}\")\n",
        "der = (f(x + h) - f(x))/h\n",
        "print(f\"f'(3) = {der}\") # This should be 14 with a small error.\n"
      ]
    },
    {
      "cell_type": "markdown",
      "metadata": {
        "id": "dPglwMcm7dFr"
      },
      "source": [
        "Now let's do a more complicated function"
      ]
    },
    {
      "cell_type": "code",
      "execution_count": 7,
      "metadata": {
        "colab": {
          "base_uri": "https://localhost:8080/"
        },
        "id": "68M65vtw7dFr",
        "outputId": "4882673e-0109-40e0-a015-1684b8acd8e8"
      },
      "outputs": [
        {
          "output_type": "stream",
          "name": "stdout",
          "text": [
            "4.0\n"
          ]
        }
      ],
      "source": [
        "a = 2.0\n",
        "b = -3.0\n",
        "c = 10.0\n",
        "d = a * b + c\n",
        "\n",
        "print(d)"
      ]
    },
    {
      "cell_type": "markdown",
      "metadata": {
        "id": "Z-3nYP5T7dFr"
      },
      "source": [
        "Let's evaluate the derivative of the new function with respect to a, b and c"
      ]
    },
    {
      "cell_type": "code",
      "execution_count": 8,
      "metadata": {
        "colab": {
          "base_uri": "https://localhost:8080/"
        },
        "id": "Tqj1qNsu7dFs",
        "outputId": "95393678-4896-492f-e797-c3fd5f8344ce"
      },
      "outputs": [
        {
          "output_type": "stream",
          "name": "stdout",
          "text": [
            "d1 =  4.0\n",
            "d2 =  3.999699999999999\n",
            "d1_da =  -3.000000000010772\n",
            "d1 =  4.0\n",
            "d2 =  4.0002\n",
            "d1_db =  2.0000000000042206\n",
            "d1 =  4.0\n",
            "d2 =  4.0001\n",
            "d1_dc =  0.9999999999976694\n"
          ]
        }
      ],
      "source": [
        "h = 0.0001 # Too small and the numerator will underflow.\n",
        "\n",
        "# Inputs\n",
        "a = 2.0\n",
        "b = -3.0\n",
        "c = 10.0\n",
        "\n",
        "d1 = a * b + c # This is f(x)\n",
        "\n",
        "# d1/da\n",
        "a = a + h # add h to a\n",
        "d2 = a * b + c # This is f(x + h)\n",
        "\n",
        "d1_da = (d2 - d1)/h\n",
        "\n",
        "print(\"d1 = \", d1) # This should be 4\n",
        "print(\"d2 = \", d2) # This should be close to 4 (smaller in this case)\n",
        "print(\"d1_da = \", d1_da) # This should be -3 for this point (using the rules)\n",
        "\n",
        "# And this works the same way for b and c\n",
        "\n",
        "# d1/db\n",
        "a = 2.0\n",
        "b = -3.0\n",
        "c = 10.0\n",
        "d1 = a * b + c\n",
        "\n",
        "b = b + h # add h to b\n",
        "d2 = a * b + c # This is f(x + h)\n",
        "\n",
        "d1_db = (d2 - d1)/h\n",
        "\n",
        "print(\"d1 = \", d1) # This should be 4\n",
        "print(\"d2 = \", d2) # This should be close to 4 (smaller in this case)\n",
        "print(\"d1_db = \", d1_db) # This should be 2 for this point (using the rules)\n",
        "\n",
        "# d1/dc\n",
        "a = 2.0\n",
        "b = -3.0\n",
        "c = 10.0\n",
        "\n",
        "d1 = a * b + c\n",
        "\n",
        "c = c + h # add h to c\n",
        "d2 = a * b + c # This is f(x + h)\n",
        "\n",
        "d1_dc = (d2 - d1)/h\n",
        "\n",
        "print(\"d1 = \", d1) # This should be 4\n",
        "print(\"d2 = \", d2) # This should be close to 4 (smaller in this case)\n",
        "print(\"d1_dc = \", d1_dc) # This should be 1 for this point (using the rules)"
      ]
    },
    {
      "cell_type": "markdown",
      "metadata": {
        "id": "eyr_M7ZW7dFs"
      },
      "source": [
        "So this is an intuitive idea of how all this autodiff thing works.\n",
        "\n",
        "Now we build the first draft of the Value object (class) of Micrograd"
      ]
    },
    {
      "cell_type": "code",
      "execution_count": 9,
      "metadata": {
        "id": "2RIwTUoc7dFt"
      },
      "outputs": [],
      "source": [
        "class Value():\n",
        "    def __init__(self, data, _children = (), _op = \"\"): # _children starts as an empty tuple. Operation is a string (add, mul...)\n",
        "        self.data = data\n",
        "        self._prev = set(_children) # Make it a set for efficiency. If I write a = Value(2.0), prev is the empty set.\n",
        "        self._op = _op\n",
        "\n",
        "    def __repr__(self): # Instead of printing the memory address, print something readable\n",
        "        return f\"Value(data = {self.data})\"\n",
        "    \n",
        "    def __add__(self, other): # Need to define what addition means\n",
        "        out = Value(self.data + other.data, (self, other), \"+\") # Returns another Value object. And we define the symbol for the operation.\n",
        "        return out\n",
        "    \n",
        "    def __mul__(self, other): # Need to define what multiplication means\n",
        "        out = Value(self.data * other.data, (self, other), \"*\") # Returns another Value object. And we define the symbol for the operation.\n",
        "        return out\n",
        "    \n",
        "\n",
        "    \n",
        "a = Value(2.0)\n",
        "b = Value(-3.0)\n",
        "c = Value(10.0)\n",
        "d = a*b + c\n",
        "# And what Python does internally is:\n",
        "#(a.__mul__(b)).__add__(c) # If you run this it should say Value(data = 4.0)"
      ]
    },
    {
      "cell_type": "code",
      "execution_count": 10,
      "metadata": {
        "colab": {
          "base_uri": "https://localhost:8080/"
        },
        "id": "139ky7w77dFt",
        "outputId": "c4b1bdac-cd4e-4163-9973-f89c29eda447"
      },
      "outputs": [
        {
          "output_type": "stream",
          "name": "stdout",
          "text": [
            "{Value(data = -6.0), Value(data = 10.0)}\n",
            "+\n"
          ]
        }
      ],
      "source": [
        "# See what d._prev gives.\n",
        "\n",
        "print(d._prev) #These are the previous nodes that I used to create d. -6 corresponds to a*b and 10 is c\n",
        "print(d._op) #This is the operation that created d"
      ]
    },
    {
      "cell_type": "markdown",
      "metadata": {
        "id": "NYRrTT7D7dFt"
      },
      "source": [
        "I want a way to display the operations tree"
      ]
    },
    {
      "cell_type": "code",
      "execution_count": 15,
      "metadata": {
        "id": "CHE-hkKf7dFt"
      },
      "outputs": [],
      "source": [
        "def trace(root):\n",
        "    # Build a set of all nodes and edges in a graph\n",
        "    nodes, edges = set(), set()\n",
        "    def build(v):\n",
        "        if v not in nodes:\n",
        "            nodes.add(v)\n",
        "            for child in v._prev:\n",
        "                edges.add((child, v))\n",
        "                build(child)\n",
        "\n",
        "    build(root)\n",
        "    return nodes, edges\n",
        "\n",
        "def draw_dot(root):\n",
        "    dot = Digraph(format = \"svg\", graph_attr = {\"rankdir\": \"LR\"}) # LR = left to right\n",
        "\n",
        "    nodes, edges = trace(root)\n",
        "    for n in nodes:\n",
        "        uid = str(id(n))\n",
        "        # For each node, create a rectangular node for it\n",
        "        dot.node(name = uid, label = \"{ data %.4f }\" %(n.data, ), shape = \"record\")\n",
        "        if n._op:\n",
        "          # If this node is the result of an operation, create a node for it\n",
        "          dot.node(name = uid + n._op, label = n._op)\n",
        "        # And connect the node to the rectangle\n",
        "          dot.edge(uid + n._op, uid)\n",
        "\n",
        "    for n1, n2 in edges:\n",
        "        # Connect output of n1 to input of n2\n",
        "        dot.edge(str(id(n1)), str(id(n2)) + n2._op)\n",
        "\n",
        "    return dot"
      ]
    },
    {
      "cell_type": "code",
      "execution_count": 16,
      "metadata": {
        "colab": {
          "base_uri": "https://localhost:8080/",
          "height": 192
        },
        "id": "RdySptJT7dFu",
        "outputId": "6f15ebcb-8698-4b57-8ceb-97cb85f7dc99"
      },
      "outputs": [
        {
          "output_type": "execute_result",
          "data": {
            "image/svg+xml": "<?xml version=\"1.0\" encoding=\"UTF-8\" standalone=\"no\"?>\n<!DOCTYPE svg PUBLIC \"-//W3C//DTD SVG 1.1//EN\"\n \"http://www.w3.org/Graphics/SVG/1.1/DTD/svg11.dtd\">\n<!-- Generated by graphviz version 2.43.0 (0)\n -->\n<!-- Title: %3 Pages: 1 -->\n<svg width=\"512pt\" height=\"128pt\"\n viewBox=\"0.00 0.00 512.00 128.00\" xmlns=\"http://www.w3.org/2000/svg\" xmlns:xlink=\"http://www.w3.org/1999/xlink\">\n<g id=\"graph0\" class=\"graph\" transform=\"scale(1 1) rotate(0) translate(4 124)\">\n<title>%3</title>\n<polygon fill=\"white\" stroke=\"transparent\" points=\"-4,4 -4,-124 508,-124 508,4 -4,4\"/>\n<!-- 140157957579824 -->\n<g id=\"node1\" class=\"node\">\n<title>140157957579824</title>\n<polygon fill=\"none\" stroke=\"black\" points=\"2.5,-83.5 2.5,-119.5 82.5,-119.5 82.5,-83.5 2.5,-83.5\"/>\n<text text-anchor=\"middle\" x=\"42.5\" y=\"-97.8\" font-family=\"Times,serif\" font-size=\"14.00\">data 2.0000</text>\n</g>\n<!-- 140157957579968* -->\n<g id=\"node5\" class=\"node\">\n<title>140157957579968*</title>\n<ellipse fill=\"none\" stroke=\"black\" cx=\"148\" cy=\"-73.5\" rx=\"27\" ry=\"18\"/>\n<text text-anchor=\"middle\" x=\"148\" y=\"-69.8\" font-family=\"Times,serif\" font-size=\"14.00\">*</text>\n</g>\n<!-- 140157957579824&#45;&gt;140157957579968* -->\n<g id=\"edge5\" class=\"edge\">\n<title>140157957579824&#45;&gt;140157957579968*</title>\n<path fill=\"none\" stroke=\"black\" d=\"M82.63,-90.91C92.66,-88.2 103.36,-85.31 113.09,-82.67\"/>\n<polygon fill=\"black\" stroke=\"black\" points=\"114.09,-86.03 122.83,-80.04 112.26,-79.27 114.09,-86.03\"/>\n</g>\n<!-- 140157957579872 -->\n<g id=\"node2\" class=\"node\">\n<title>140157957579872</title>\n<polygon fill=\"none\" stroke=\"black\" points=\"211,-0.5 211,-36.5 298,-36.5 298,-0.5 211,-0.5\"/>\n<text text-anchor=\"middle\" x=\"254.5\" y=\"-14.8\" font-family=\"Times,serif\" font-size=\"14.00\">data 10.0000</text>\n</g>\n<!-- 140157957580064+ -->\n<g id=\"node7\" class=\"node\">\n<title>140157957580064+</title>\n<ellipse fill=\"none\" stroke=\"black\" cx=\"361\" cy=\"-45.5\" rx=\"27\" ry=\"18\"/>\n<text text-anchor=\"middle\" x=\"361\" y=\"-41.8\" font-family=\"Times,serif\" font-size=\"14.00\">+</text>\n</g>\n<!-- 140157957579872&#45;&gt;140157957580064+ -->\n<g id=\"edge6\" class=\"edge\">\n<title>140157957579872&#45;&gt;140157957580064+</title>\n<path fill=\"none\" stroke=\"black\" d=\"M298,-29.48C307.18,-31.85 316.78,-34.33 325.6,-36.61\"/>\n<polygon fill=\"black\" stroke=\"black\" points=\"324.97,-40.07 335.53,-39.18 326.73,-33.29 324.97,-40.07\"/>\n</g>\n<!-- 140157957579920 -->\n<g id=\"node3\" class=\"node\">\n<title>140157957579920</title>\n<polygon fill=\"none\" stroke=\"black\" points=\"0,-28.5 0,-64.5 85,-64.5 85,-28.5 0,-28.5\"/>\n<text text-anchor=\"middle\" x=\"42.5\" y=\"-42.8\" font-family=\"Times,serif\" font-size=\"14.00\">data &#45;3.0000</text>\n</g>\n<!-- 140157957579920&#45;&gt;140157957579968* -->\n<g id=\"edge3\" class=\"edge\">\n<title>140157957579920&#45;&gt;140157957579968*</title>\n<path fill=\"none\" stroke=\"black\" d=\"M85,-57.33C94.14,-59.71 103.72,-62.21 112.54,-64.51\"/>\n<polygon fill=\"black\" stroke=\"black\" points=\"111.91,-67.96 122.47,-67.1 113.68,-61.19 111.91,-67.96\"/>\n</g>\n<!-- 140157957579968 -->\n<g id=\"node4\" class=\"node\">\n<title>140157957579968</title>\n<polygon fill=\"none\" stroke=\"black\" points=\"212,-55.5 212,-91.5 297,-91.5 297,-55.5 212,-55.5\"/>\n<text text-anchor=\"middle\" x=\"254.5\" y=\"-69.8\" font-family=\"Times,serif\" font-size=\"14.00\">data &#45;6.0000</text>\n</g>\n<!-- 140157957579968&#45;&gt;140157957580064+ -->\n<g id=\"edge4\" class=\"edge\">\n<title>140157957579968&#45;&gt;140157957580064+</title>\n<path fill=\"none\" stroke=\"black\" d=\"M297.1,-62.35C306.61,-59.8 316.62,-57.12 325.78,-54.67\"/>\n<polygon fill=\"black\" stroke=\"black\" points=\"326.94,-57.98 335.69,-52.01 325.12,-51.22 326.94,-57.98\"/>\n</g>\n<!-- 140157957579968*&#45;&gt;140157957579968 -->\n<g id=\"edge1\" class=\"edge\">\n<title>140157957579968*&#45;&gt;140157957579968</title>\n<path fill=\"none\" stroke=\"black\" d=\"M175.1,-73.5C183.27,-73.5 192.59,-73.5 201.88,-73.5\"/>\n<polygon fill=\"black\" stroke=\"black\" points=\"201.89,-77 211.89,-73.5 201.89,-70 201.89,-77\"/>\n</g>\n<!-- 140157957580064 -->\n<g id=\"node6\" class=\"node\">\n<title>140157957580064</title>\n<polygon fill=\"none\" stroke=\"black\" points=\"424,-27.5 424,-63.5 504,-63.5 504,-27.5 424,-27.5\"/>\n<text text-anchor=\"middle\" x=\"464\" y=\"-41.8\" font-family=\"Times,serif\" font-size=\"14.00\">data 4.0000</text>\n</g>\n<!-- 140157957580064+&#45;&gt;140157957580064 -->\n<g id=\"edge2\" class=\"edge\">\n<title>140157957580064+&#45;&gt;140157957580064</title>\n<path fill=\"none\" stroke=\"black\" d=\"M388.01,-45.5C395.82,-45.5 404.67,-45.5 413.48,-45.5\"/>\n<polygon fill=\"black\" stroke=\"black\" points=\"413.73,-49 423.73,-45.5 413.73,-42 413.73,-49\"/>\n</g>\n</g>\n</svg>\n",
            "text/plain": [
              "<graphviz.graphs.Digraph at 0x7f78f1e5b550>"
            ]
          },
          "metadata": {},
          "execution_count": 16
        }
      ],
      "source": [
        "draw_dot(d)"
      ]
    }
  ],
  "metadata": {
    "colab": {
      "provenance": [],
      "include_colab_link": true
    },
    "kernelspec": {
      "display_name": "dbt_13",
      "language": "python",
      "name": "python3"
    },
    "language_info": {
      "codemirror_mode": {
        "name": "ipython",
        "version": 3
      },
      "file_extension": ".py",
      "mimetype": "text/x-python",
      "name": "python",
      "nbconvert_exporter": "python",
      "pygments_lexer": "ipython3",
      "version": "3.10.10"
    },
    "vscode": {
      "interpreter": {
        "hash": "c95f06af5cc293931129b1f6560e12509c2c49fa9f3d6bb87d157ed2f6fb8694"
      }
    }
  },
  "nbformat": 4,
  "nbformat_minor": 0
}
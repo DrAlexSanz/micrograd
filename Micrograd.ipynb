{
  "cells": [
    {
      "cell_type": "markdown",
      "metadata": {
        "id": "view-in-github",
        "colab_type": "text"
      },
      "source": [
        "<a href=\"https://colab.research.google.com/github/DrAlexSanz/micrograd/blob/main/Micrograd.ipynb\" target=\"_parent\"><img src=\"https://colab.research.google.com/assets/colab-badge.svg\" alt=\"Open In Colab\"/></a>"
      ]
    },
    {
      "cell_type": "markdown",
      "metadata": {
        "id": "n09nqI5a7dFg"
      },
      "source": [
        "# Goal of this notebook\n",
        "\n",
        "* Understand how does automatic differentiation work\n",
        "\n",
        "Lecture here https://www.youtube.com/watch?v=VMj-3S1tku0&list=PLAqhIrjkxbuWI23v9cThsA9GvCAUhRvKZ&index=1"
      ]
    },
    {
      "cell_type": "code",
      "execution_count": 1,
      "metadata": {
        "id": "B1mucd5kiisR"
      },
      "outputs": [],
      "source": [
        "import math\n",
        "from graphviz import Digraph\n",
        "import numpy as np\n",
        "import matplotlib.pyplot as plt\n"
      ]
    },
    {
      "cell_type": "code",
      "execution_count": 2,
      "metadata": {
        "colab": {
          "base_uri": "https://localhost:8080/"
        },
        "id": "P0HMfBUo7dFm",
        "outputId": "34a8512f-1a45-424d-f2cf-78aae47ca9df"
      },
      "outputs": [
        {
          "output_type": "execute_result",
          "data": {
            "text/plain": [
              "20.0"
            ]
          },
          "metadata": {},
          "execution_count": 2
        }
      ],
      "source": [
        "# Make a function to demonstrate operations\n",
        "def f(x):\n",
        "    return 3*x**2 - 4*x +5\n",
        "\n",
        "f(3.0)"
      ]
    },
    {
      "cell_type": "code",
      "execution_count": 3,
      "metadata": {
        "colab": {
          "base_uri": "https://localhost:8080/",
          "height": 469
        },
        "id": "EBUmEOYe7dFo",
        "outputId": "9e340f31-3105-4a74-baf7-098c51f96854"
      },
      "outputs": [
        {
          "output_type": "execute_result",
          "data": {
            "text/plain": [
              "Text(0.5, 1.0, 'Beautiful parabola')"
            ]
          },
          "metadata": {},
          "execution_count": 3
        },
        {
          "output_type": "display_data",
          "data": {
            "text/plain": [
              "<Figure size 640x480 with 1 Axes>"
            ],
            "image/png": "[encoded data removed]"
          },
          "metadata": {}
        }
      ],
      "source": [
        "xs = np.arange(-5, 5, 0.25) # Now get a vector of inputs and pass it to the function for plotting\n",
        "\n",
        "ys = f(xs)\n",
        "\n",
        "plt.plot(xs, ys)\n",
        "plt.title(\"Beautiful parabola\")"
      ]
    },
    {
      "cell_type": "markdown",
      "metadata": {
        "id": "vZ_1347F7dFp"
      },
      "source": [
        "Now, I could calculate the derivative using the rules because it's an easy one. Alternatively I can use the definition of derivative.\n",
        "\n",
        "$$ f'(x) = lim_{x \\rightarrow 0} \\frac{f(x + h) - f(x)}{h} $$\n"
      ]
    },
    {
      "cell_type": "code",
      "execution_count": 4,
      "metadata": {
        "colab": {
          "base_uri": "https://localhost:8080/"
        },
        "id": "oICLJVMm7dFp",
        "outputId": "64ac05f9-e76f-4cac-8d52-300aab2dc7f3"
      },
      "outputs": [
        {
          "output_type": "stream",
          "name": "stdout",
          "text": [
            "f(x + h) = 20.0001400003\n",
            "f(x) = 20.0\n",
            "f'(3) = 14.00003000000538\n"
          ]
        }
      ],
      "source": [
        "# I define\n",
        "h = 0.00001 # Too small and the numerator will underflow.\n",
        "x = 3.0\n",
        "print(f\"f(x + h) = {f(x + h)}\")\n",
        "print(f\"f(x) = {f(x)}\")\n",
        "der = (f(x + h) - f(x))/h\n",
        "print(f\"f'(3) = {der}\") # This should be 14 with a small error.\n"
      ]
    },
    {
      "cell_type": "code",
      "execution_count": 5,
      "metadata": {
        "colab": {
          "base_uri": "https://localhost:8080/"
        },
        "id": "gKoZGG0X7dFq",
        "outputId": "707812fc-03c2-4868-9b1e-f6964381fcf2"
      },
      "outputs": [
        {
          "output_type": "stream",
          "name": "stdout",
          "text": [
            "f(x + h) = 43.9997800003\n",
            "f(x) = 44.0\n",
            "f'(3) = -21.999970000052823\n"
          ]
        }
      ],
      "source": [
        "# And now for the negative side, the derivative should be negative\n",
        "h = 0.00001 # Too small and the numerator will underflow.\n",
        "x = -3.0\n",
        "print(f\"f(x + h) = {f(x + h)}\")\n",
        "print(f\"f(x) = {f(x)}\")\n",
        "der = (f(x + h) - f(x))/h\n",
        "print(f\"f'(3) = {der}\") # This should be 14 with a small error.\n"
      ]
    },
    {
      "cell_type": "code",
      "execution_count": 6,
      "metadata": {
        "colab": {
          "base_uri": "https://localhost:8080/"
        },
        "id": "Y2qnzdes7dFq",
        "outputId": "ce656687-f9cb-4625-b59b-f6fb2a9ef184"
      },
      "outputs": [
        {
          "output_type": "stream",
          "name": "stdout",
          "text": [
            "f(x + h) = 3.666666666966667\n",
            "f(x) = 3.666666666666667\n",
            "f'(3) = 3.0000002482211127e-05\n"
          ]
        }
      ],
      "source": [
        "# And now I know that the minimum is at 2/3 more or less\n",
        "h = 0.00001 # Too small and the numerator will underflow.\n",
        "x = 2/3\n",
        "print(f\"f(x + h) = {f(x + h)}\")\n",
        "print(f\"f(x) = {f(x)}\")\n",
        "der = (f(x + h) - f(x))/h\n",
        "print(f\"f'(3) = {der}\") # This should be 14 with a small error.\n"
      ]
    },
    {
      "cell_type": "markdown",
      "metadata": {
        "id": "dPglwMcm7dFr"
      },
      "source": [
        "Now let's do a more complicated function"
      ]
    },
    {
      "cell_type": "code",
      "execution_count": 7,
      "metadata": {
        "colab": {
          "base_uri": "https://localhost:8080/"
        },
        "id": "68M65vtw7dFr",
        "outputId": "0689bcd2-6806-4461-fa21-f724535f7d8f"
      },
      "outputs": [
        {
          "output_type": "stream",
          "name": "stdout",
          "text": [
            "4.0\n"
          ]
        }
      ],
      "source": [
        "a = 2.0\n",
        "b = -3.0\n",
        "c = 10.0\n",
        "d = a * b + c\n",
        "\n",
        "print(d)"
      ]
    },
    {
      "cell_type": "markdown",
      "metadata": {
        "id": "Z-3nYP5T7dFr"
      },
      "source": [
        "Let's evaluate the derivative of the new function with respect to a, b and c"
      ]
    },
    {
      "cell_type": "code",
      "execution_count": 8,
      "metadata": {
        "colab": {
          "base_uri": "https://localhost:8080/"
        },
        "id": "Tqj1qNsu7dFs",
        "outputId": "988309e7-6adc-4b64-ded8-c0204d6959b8"
      },
      "outputs": [
        {
          "output_type": "stream",
          "name": "stdout",
          "text": [
            "d1 =  4.0\n",
            "d2 =  3.999699999999999\n",
            "d1_da =  -3.000000000010772\n",
            "d1 =  4.0\n",
            "d2 =  4.0002\n",
            "d1_db =  2.0000000000042206\n",
            "d1 =  4.0\n",
            "d2 =  4.0001\n",
            "d1_dc =  0.9999999999976694\n"
          ]
        }
      ],
      "source": [
        "h = 0.0001 # Too small and the numerator will underflow.\n",
        "\n",
        "# Inputs\n",
        "a = 2.0\n",
        "b = -3.0\n",
        "c = 10.0\n",
        "\n",
        "d1 = a * b + c # This is f(x)\n",
        "\n",
        "# d1/da\n",
        "a = a + h # add h to a\n",
        "d2 = a * b + c # This is f(x + h)\n",
        "\n",
        "d1_da = (d2 - d1)/h\n",
        "\n",
        "print(\"d1 = \", d1) # This should be 4\n",
        "print(\"d2 = \", d2) # This should be close to 4 (smaller in this case)\n",
        "print(\"d1_da = \", d1_da) # This should be -3 for this point (using the rules)\n",
        "\n",
        "# And this works the same way for b and c\n",
        "\n",
        "# d1/db\n",
        "a = 2.0\n",
        "b = -3.0\n",
        "c = 10.0\n",
        "d1 = a * b + c\n",
        "\n",
        "b = b + h # add h to b\n",
        "d2 = a * b + c # This is f(x + h)\n",
        "\n",
        "d1_db = (d2 - d1)/h\n",
        "\n",
        "print(\"d1 = \", d1) # This should be 4\n",
        "print(\"d2 = \", d2) # This should be close to 4 (smaller in this case)\n",
        "print(\"d1_db = \", d1_db) # This should be 2 for this point (using the rules)\n",
        "\n",
        "# d1/dc\n",
        "a = 2.0\n",
        "b = -3.0\n",
        "c = 10.0\n",
        "\n",
        "d1 = a * b + c\n",
        "\n",
        "c = c + h # add h to c\n",
        "d2 = a * b + c # This is f(x + h)\n",
        "\n",
        "d1_dc = (d2 - d1)/h\n",
        "\n",
        "print(\"d1 = \", d1) # This should be 4\n",
        "print(\"d2 = \", d2) # This should be close to 4 (smaller in this case)\n",
        "print(\"d1_dc = \", d1_dc) # This should be 1 for this point (using the rules)"
      ]
    },
    {
      "cell_type": "markdown",
      "metadata": {
        "id": "eyr_M7ZW7dFs"
      },
      "source": [
        "So this is an intuitive idea of how all this autodiff thing works.\n",
        "\n",
        "Now we build the first draft of the Value object (class) of Micrograd"
      ]
    },
    {
      "cell_type": "code",
      "execution_count": 17,
      "metadata": {
        "id": "2RIwTUoc7dFt"
      },
      "outputs": [],
      "source": [
        "class Value():\n",
        "    def __init__(self, data, _children = (), _op = \"\", label = \"\"): # _children starts as an empty tuple. Operation is a string (add, mul...)\n",
        "        self.data = data\n",
        "        self.grad = 0.0 # This will be the derivative, initialized to 0\n",
        "        self._prev = set(_children) # Make it a set for efficiency. If I write a = Value(2.0), prev is the empty set.\n",
        "        self._op = _op\n",
        "        self.label = label\n",
        "\n",
        "    def __repr__(self): # Instead of printing the memory address, print something readable\n",
        "        return f\"Value(data = {self.data})\"\n",
        "    \n",
        "    def __add__(self, other): # Need to define what addition means\n",
        "        out = Value(self.data + other.data, (self, other), \"+\") # Returns another Value object. And we define the symbol for the operation.\n",
        "        return out\n",
        "    \n",
        "    def __mul__(self, other): # Need to define what multiplication means\n",
        "        out = Value(self.data * other.data, (self, other), \"*\") # Returns another Value object. And we define the symbol for the operation.\n",
        "        return out\n",
        "\n",
        "    def tanh(self): # I could use one of the definitions with exp, and implement exp only and compose tanh. What matters is that I can differentiate it.\n",
        "        n = self.data\n",
        "        t = (math.exp(2 * n) - 1)/(math.exp(2 * n) + 1)\n",
        "        out = Value(t, (self,), \"tanh\") # I wrap self in a tuple for children\n",
        "        return out\n",
        "\n",
        "    \n",
        "a = Value(2.0, label = \"a\")\n",
        "b = Value(-3.0, label = \"b\")\n",
        "c = Value(10.0, label = \"c\")\n",
        "e = a * b; e.label = \"e\"\n",
        "d = e + c; d.label = \"d\"\n",
        "f = Value(-2.0, label = \"f\")\n",
        "L = d * f; L.label = \"L\"\n",
        "# And what Python does internally is:\n",
        "#(a.__mul__(b)).__add__(c) # If you run this it should say Value(data = 4.0)"
      ]
    },
    {
      "cell_type": "code",
      "execution_count": 10,
      "metadata": {
        "colab": {
          "base_uri": "https://localhost:8080/"
        },
        "id": "139ky7w77dFt",
        "outputId": "8cb23baf-47ef-4cfb-f8f8-94d2488b4eba"
      },
      "outputs": [
        {
          "output_type": "stream",
          "name": "stdout",
          "text": [
            "{Value(data = -6.0), Value(data = 10.0)}\n",
            "+\n"
          ]
        }
      ],
      "source": [
        "# See what d._prev gives.\n",
        "\n",
        "print(d._prev) #These are the previous nodes that I used to create d. -6 corresponds to a*b and 10 is c\n",
        "print(d._op) #This is the operation that created d"
      ]
    },
    {
      "cell_type": "markdown",
      "metadata": {
        "id": "NYRrTT7D7dFt"
      },
      "source": [
        "I want a way to display the operations tree"
      ]
    },
    {
      "cell_type": "code",
      "execution_count": 11,
      "metadata": {
        "id": "CHE-hkKf7dFt"
      },
      "outputs": [],
      "source": [
        "def trace(root):\n",
        "    # Build a set of all nodes and edges in a graph\n",
        "    nodes, edges = set(), set()\n",
        "    def build(v):\n",
        "        if v not in nodes:\n",
        "            nodes.add(v)\n",
        "            for child in v._prev:\n",
        "                edges.add((child, v))\n",
        "                build(child)\n",
        "\n",
        "    build(root)\n",
        "    return nodes, edges\n",
        "\n",
        "def draw_dot(root):\n",
        "    dot = Digraph(format = \"svg\", graph_attr = {\"rankdir\": \"LR\"}) # LR = left to right\n",
        "\n",
        "    nodes, edges = trace(root)\n",
        "    for n in nodes:\n",
        "        uid = str(id(n))\n",
        "        # For each node, create a rectangular node for it\n",
        "        dot.node(name = uid, label = \"{ %s | data %.4f | grad %.4f}\" %(n.label, n.data, n.grad), shape = \"record\")\n",
        "        if n._op:\n",
        "          # If this node is the result of an operation, create a node for it\n",
        "          dot.node(name = uid + n._op, label = n._op)\n",
        "        # And connect the node to the rectangle\n",
        "          dot.edge(uid + n._op, uid)\n",
        "\n",
        "    for n1, n2 in edges:\n",
        "        # Connect output of n1 to input of n2\n",
        "        dot.edge(str(id(n1)), str(id(n2)) + n2._op)\n",
        "\n",
        "    return dot"
      ]
    },
    {
      "cell_type": "code",
      "execution_count": 12,
      "metadata": {
        "colab": {
          "base_uri": "https://localhost:8080/",
          "height": 191
        },
        "id": "RdySptJT7dFu",
        "outputId": "829a22f6-d1c8-4e4d-ba23-e278c39ebb8d"
      },
      "outputs": [
        {
          "output_type": "execute_result",
          "data": {
            "image/svg+xml": "<?xml version=\"1.0\" encoding=\"UTF-8\" standalone=\"no\"?>\n<!DOCTYPE svg PUBLIC \"-//W3C//DTD SVG 1.1//EN\"\n \"http://www.w3.org/Graphics/SVG/1.1/DTD/svg11.dtd\">\n<!-- Generated by graphviz version 2.43.0 (0)\n -->\n<!-- Title: %3 Pages: 1 -->\n<svg width=\"827pt\" height=\"127pt\"\n viewBox=\"0.00 0.00 827.00 127.00\" xmlns=\"http://www.w3.org/2000/svg\" xmlns:xlink=\"http://www.w3.org/1999/xlink\">\n<g id=\"graph0\" class=\"graph\" transform=\"scale(1 1) rotate(0) translate(4 123)\">\n<title>%3</title>\n<polygon fill=\"white\" stroke=\"transparent\" points=\"-4,4 -4,-123 823,-123 823,4 -4,4\"/>\n<!-- 140687362170480 -->\n<g id=\"node1\" class=\"node\">\n<title>140687362170480</title>\n<polygon fill=\"none\" stroke=\"black\" points=\"316,-82.5 316,-118.5 508,-118.5 508,-82.5 316,-82.5\"/>\n<text text-anchor=\"middle\" x=\"327.5\" y=\"-96.8\" font-family=\"Times,serif\" font-size=\"14.00\">c</text>\n<polyline fill=\"none\" stroke=\"black\" points=\"339,-82.5 339,-118.5 \"/>\n<text text-anchor=\"middle\" x=\"382.5\" y=\"-96.8\" font-family=\"Times,serif\" font-size=\"14.00\">data 10.0000</text>\n<polyline fill=\"none\" stroke=\"black\" points=\"426,-82.5 426,-118.5 \"/>\n<text text-anchor=\"middle\" x=\"467\" y=\"-96.8\" font-family=\"Times,serif\" font-size=\"14.00\">grad 0.0000</text>\n</g>\n<!-- 140687362177200+ -->\n<g id=\"node3\" class=\"node\">\n<title>140687362177200+</title>\n<ellipse fill=\"none\" stroke=\"black\" cx=\"571\" cy=\"-72.5\" rx=\"27\" ry=\"18\"/>\n<text text-anchor=\"middle\" x=\"571\" y=\"-68.8\" font-family=\"Times,serif\" font-size=\"14.00\">+</text>\n</g>\n<!-- 140687362170480&#45;&gt;140687362177200+ -->\n<g id=\"edge6\" class=\"edge\">\n<title>140687362170480&#45;&gt;140687362177200+</title>\n<path fill=\"none\" stroke=\"black\" d=\"M508.4,-83.49C517.69,-81.83 526.64,-80.23 534.71,-78.79\"/>\n<polygon fill=\"black\" stroke=\"black\" points=\"535.53,-82.2 544.76,-77 534.31,-75.31 535.53,-82.2\"/>\n</g>\n<!-- 140687362177200 -->\n<g id=\"node2\" class=\"node\">\n<title>140687362177200</title>\n<polygon fill=\"none\" stroke=\"black\" points=\"634,-54.5 634,-90.5 819,-90.5 819,-54.5 634,-54.5\"/>\n<text text-anchor=\"middle\" x=\"645.5\" y=\"-68.8\" font-family=\"Times,serif\" font-size=\"14.00\">d</text>\n<polyline fill=\"none\" stroke=\"black\" points=\"657,-54.5 657,-90.5 \"/>\n<text text-anchor=\"middle\" x=\"697\" y=\"-68.8\" font-family=\"Times,serif\" font-size=\"14.00\">data 4.0000</text>\n<polyline fill=\"none\" stroke=\"black\" points=\"737,-54.5 737,-90.5 \"/>\n<text text-anchor=\"middle\" x=\"778\" y=\"-68.8\" font-family=\"Times,serif\" font-size=\"14.00\">grad 0.0000</text>\n</g>\n<!-- 140687362177200+&#45;&gt;140687362177200 -->\n<g id=\"edge1\" class=\"edge\">\n<title>140687362177200+&#45;&gt;140687362177200</title>\n<path fill=\"none\" stroke=\"black\" d=\"M598.04,-72.5C605.58,-72.5 614.3,-72.5 623.57,-72.5\"/>\n<polygon fill=\"black\" stroke=\"black\" points=\"623.81,-76 633.81,-72.5 623.81,-69 623.81,-76\"/>\n</g>\n<!-- 140687362177728 -->\n<g id=\"node4\" class=\"node\">\n<title>140687362177728</title>\n<polygon fill=\"none\" stroke=\"black\" points=\"317,-27.5 317,-63.5 507,-63.5 507,-27.5 317,-27.5\"/>\n<text text-anchor=\"middle\" x=\"328.5\" y=\"-41.8\" font-family=\"Times,serif\" font-size=\"14.00\">e</text>\n<polyline fill=\"none\" stroke=\"black\" points=\"340,-27.5 340,-63.5 \"/>\n<text text-anchor=\"middle\" x=\"382.5\" y=\"-41.8\" font-family=\"Times,serif\" font-size=\"14.00\">data &#45;6.0000</text>\n<polyline fill=\"none\" stroke=\"black\" points=\"425,-27.5 425,-63.5 \"/>\n<text text-anchor=\"middle\" x=\"466\" y=\"-41.8\" font-family=\"Times,serif\" font-size=\"14.00\">grad 0.0000</text>\n</g>\n<!-- 140687362177728&#45;&gt;140687362177200+ -->\n<g id=\"edge3\" class=\"edge\">\n<title>140687362177728&#45;&gt;140687362177200+</title>\n<path fill=\"none\" stroke=\"black\" d=\"M507.05,-61.67C516.78,-63.35 526.18,-64.96 534.62,-66.42\"/>\n<polygon fill=\"black\" stroke=\"black\" points=\"534.3,-69.91 544.75,-68.16 535.49,-63.01 534.3,-69.91\"/>\n</g>\n<!-- 140687362177728* -->\n<g id=\"node5\" class=\"node\">\n<title>140687362177728*</title>\n<ellipse fill=\"none\" stroke=\"black\" cx=\"253\" cy=\"-45.5\" rx=\"27\" ry=\"18\"/>\n<text text-anchor=\"middle\" x=\"253\" y=\"-41.8\" font-family=\"Times,serif\" font-size=\"14.00\">*</text>\n</g>\n<!-- 140687362177728*&#45;&gt;140687362177728 -->\n<g id=\"edge2\" class=\"edge\">\n<title>140687362177728*&#45;&gt;140687362177728</title>\n<path fill=\"none\" stroke=\"black\" d=\"M280.28,-45.5C288.05,-45.5 297.08,-45.5 306.68,-45.5\"/>\n<polygon fill=\"black\" stroke=\"black\" points=\"306.88,-49 316.88,-45.5 306.88,-42 306.88,-49\"/>\n</g>\n<!-- 140687362168560 -->\n<g id=\"node6\" class=\"node\">\n<title>140687362168560</title>\n<polygon fill=\"none\" stroke=\"black\" points=\"0,-55.5 0,-91.5 190,-91.5 190,-55.5 0,-55.5\"/>\n<text text-anchor=\"middle\" x=\"11.5\" y=\"-69.8\" font-family=\"Times,serif\" font-size=\"14.00\">b</text>\n<polyline fill=\"none\" stroke=\"black\" points=\"23,-55.5 23,-91.5 \"/>\n<text text-anchor=\"middle\" x=\"65.5\" y=\"-69.8\" font-family=\"Times,serif\" font-size=\"14.00\">data &#45;3.0000</text>\n<polyline fill=\"none\" stroke=\"black\" points=\"108,-55.5 108,-91.5 \"/>\n<text text-anchor=\"middle\" x=\"149\" y=\"-69.8\" font-family=\"Times,serif\" font-size=\"14.00\">grad 0.0000</text>\n</g>\n<!-- 140687362168560&#45;&gt;140687362177728* -->\n<g id=\"edge5\" class=\"edge\">\n<title>140687362168560&#45;&gt;140687362177728*</title>\n<path fill=\"none\" stroke=\"black\" d=\"M190.34,-56.57C199.62,-54.9 208.58,-53.29 216.66,-51.84\"/>\n<polygon fill=\"black\" stroke=\"black\" points=\"217.49,-55.25 226.72,-50.04 216.26,-48.36 217.49,-55.25\"/>\n</g>\n<!-- 140687362178976 -->\n<g id=\"node7\" class=\"node\">\n<title>140687362178976</title>\n<polygon fill=\"none\" stroke=\"black\" points=\"2.5,-0.5 2.5,-36.5 187.5,-36.5 187.5,-0.5 2.5,-0.5\"/>\n<text text-anchor=\"middle\" x=\"14\" y=\"-14.8\" font-family=\"Times,serif\" font-size=\"14.00\">a</text>\n<polyline fill=\"none\" stroke=\"black\" points=\"25.5,-0.5 25.5,-36.5 \"/>\n<text text-anchor=\"middle\" x=\"65.5\" y=\"-14.8\" font-family=\"Times,serif\" font-size=\"14.00\">data 2.0000</text>\n<polyline fill=\"none\" stroke=\"black\" points=\"105.5,-0.5 105.5,-36.5 \"/>\n<text text-anchor=\"middle\" x=\"146.5\" y=\"-14.8\" font-family=\"Times,serif\" font-size=\"14.00\">grad 0.0000</text>\n</g>\n<!-- 140687362178976&#45;&gt;140687362177728* -->\n<g id=\"edge4\" class=\"edge\">\n<title>140687362178976&#45;&gt;140687362177728*</title>\n<path fill=\"none\" stroke=\"black\" d=\"M187.65,-34.36C197.94,-36.14 207.91,-37.87 216.81,-39.41\"/>\n<polygon fill=\"black\" stroke=\"black\" points=\"216.26,-42.87 226.71,-41.12 217.45,-35.97 216.26,-42.87\"/>\n</g>\n</g>\n</svg>\n",
            "text/plain": [
              "<graphviz.graphs.Digraph at 0x7ff4543f34c0>"
            ]
          },
          "metadata": {},
          "execution_count": 12
        }
      ],
      "source": [
        "draw_dot(d) # The squares are Value objects. The ellipses are op nodes"
      ]
    },
    {
      "cell_type": "code",
      "source": [
        "draw_dot(f)"
      ],
      "metadata": {
        "colab": {
          "base_uri": "https://localhost:8080/",
          "height": 82
        },
        "id": "wwaXlbQ29dJ3",
        "outputId": "b9434538-e838-449e-f459-bac1f84c9adc"
      },
      "execution_count": 13,
      "outputs": [
        {
          "output_type": "execute_result",
          "data": {
            "image/svg+xml": "<?xml version=\"1.0\" encoding=\"UTF-8\" standalone=\"no\"?>\n<!DOCTYPE svg PUBLIC \"-//W3C//DTD SVG 1.1//EN\"\n \"http://www.w3.org/Graphics/SVG/1.1/DTD/svg11.dtd\">\n<!-- Generated by graphviz version 2.43.0 (0)\n -->\n<!-- Title: %3 Pages: 1 -->\n<svg width=\"196pt\" height=\"45pt\"\n viewBox=\"0.00 0.00 196.00 45.00\" xmlns=\"http://www.w3.org/2000/svg\" xmlns:xlink=\"http://www.w3.org/1999/xlink\">\n<g id=\"graph0\" class=\"graph\" transform=\"scale(1 1) rotate(0) translate(4 41)\">\n<title>%3</title>\n<polygon fill=\"white\" stroke=\"transparent\" points=\"-4,4 -4,-41 192,-41 192,4 -4,4\"/>\n<!-- 140687362170960 -->\n<g id=\"node1\" class=\"node\">\n<title>140687362170960</title>\n<polygon fill=\"none\" stroke=\"black\" points=\"0,-0.5 0,-36.5 188,-36.5 188,-0.5 0,-0.5\"/>\n<text text-anchor=\"middle\" x=\"10.5\" y=\"-14.8\" font-family=\"Times,serif\" font-size=\"14.00\">f</text>\n<polyline fill=\"none\" stroke=\"black\" points=\"21,-0.5 21,-36.5 \"/>\n<text text-anchor=\"middle\" x=\"63.5\" y=\"-14.8\" font-family=\"Times,serif\" font-size=\"14.00\">data &#45;2.0000</text>\n<polyline fill=\"none\" stroke=\"black\" points=\"106,-0.5 106,-36.5 \"/>\n<text text-anchor=\"middle\" x=\"147\" y=\"-14.8\" font-family=\"Times,serif\" font-size=\"14.00\">grad 0.0000</text>\n</g>\n</g>\n</svg>\n",
            "text/plain": [
              "<graphviz.graphs.Digraph at 0x7ff4543f1690>"
            ]
          },
          "metadata": {},
          "execution_count": 13
        }
      ]
    },
    {
      "cell_type": "code",
      "source": [
        "draw_dot(L) # In node d, grad is dL/dd (derivative of L with respect to d)"
      ],
      "metadata": {
        "colab": {
          "base_uri": "https://localhost:8080/",
          "height": 247
        },
        "id": "goImHT339kBG",
        "outputId": "a18a1c85-82f3-42e3-9727-081ea0d9506d"
      },
      "execution_count": 14,
      "outputs": [
        {
          "output_type": "execute_result",
          "data": {
            "image/svg+xml": "<?xml version=\"1.0\" encoding=\"UTF-8\" standalone=\"no\"?>\n<!DOCTYPE svg PUBLIC \"-//W3C//DTD SVG 1.1//EN\"\n \"http://www.w3.org/Graphics/SVG/1.1/DTD/svg11.dtd\">\n<!-- Generated by graphviz version 2.43.0 (0)\n -->\n<!-- Title: %3 Pages: 1 -->\n<svg width=\"1148pt\" height=\"154pt\"\n viewBox=\"0.00 0.00 1148.00 154.00\" xmlns=\"http://www.w3.org/2000/svg\" xmlns:xlink=\"http://www.w3.org/1999/xlink\">\n<g id=\"graph0\" class=\"graph\" transform=\"scale(1 1) rotate(0) translate(4 150)\">\n<title>%3</title>\n<polygon fill=\"white\" stroke=\"transparent\" points=\"-4,4 -4,-150 1144,-150 1144,4 -4,4\"/>\n<!-- 140687362169904 -->\n<g id=\"node1\" class=\"node\">\n<title>140687362169904</title>\n<polygon fill=\"none\" stroke=\"black\" points=\"948,-81.5 948,-117.5 1140,-117.5 1140,-81.5 948,-81.5\"/>\n<text text-anchor=\"middle\" x=\"960.5\" y=\"-95.8\" font-family=\"Times,serif\" font-size=\"14.00\">L</text>\n<polyline fill=\"none\" stroke=\"black\" points=\"973,-81.5 973,-117.5 \"/>\n<text text-anchor=\"middle\" x=\"1015.5\" y=\"-95.8\" font-family=\"Times,serif\" font-size=\"14.00\">data &#45;8.0000</text>\n<polyline fill=\"none\" stroke=\"black\" points=\"1058,-81.5 1058,-117.5 \"/>\n<text text-anchor=\"middle\" x=\"1099\" y=\"-95.8\" font-family=\"Times,serif\" font-size=\"14.00\">grad 0.0000</text>\n</g>\n<!-- 140687362169904* -->\n<g id=\"node2\" class=\"node\">\n<title>140687362169904*</title>\n<ellipse fill=\"none\" stroke=\"black\" cx=\"885\" cy=\"-99.5\" rx=\"27\" ry=\"18\"/>\n<text text-anchor=\"middle\" x=\"885\" y=\"-95.8\" font-family=\"Times,serif\" font-size=\"14.00\">*</text>\n</g>\n<!-- 140687362169904*&#45;&gt;140687362169904 -->\n<g id=\"edge1\" class=\"edge\">\n<title>140687362169904*&#45;&gt;140687362169904</title>\n<path fill=\"none\" stroke=\"black\" d=\"M912.28,-99.5C919.78,-99.5 928.44,-99.5 937.67,-99.5\"/>\n<polygon fill=\"black\" stroke=\"black\" points=\"937.87,-103 947.87,-99.5 937.87,-96 937.87,-103\"/>\n</g>\n<!-- 140687362170960 -->\n<g id=\"node3\" class=\"node\">\n<title>140687362170960</title>\n<polygon fill=\"none\" stroke=\"black\" points=\"634,-109.5 634,-145.5 822,-145.5 822,-109.5 634,-109.5\"/>\n<text text-anchor=\"middle\" x=\"644.5\" y=\"-123.8\" font-family=\"Times,serif\" font-size=\"14.00\">f</text>\n<polyline fill=\"none\" stroke=\"black\" points=\"655,-109.5 655,-145.5 \"/>\n<text text-anchor=\"middle\" x=\"697.5\" y=\"-123.8\" font-family=\"Times,serif\" font-size=\"14.00\">data &#45;2.0000</text>\n<polyline fill=\"none\" stroke=\"black\" points=\"740,-109.5 740,-145.5 \"/>\n<text text-anchor=\"middle\" x=\"781\" y=\"-123.8\" font-family=\"Times,serif\" font-size=\"14.00\">grad 0.0000</text>\n</g>\n<!-- 140687362170960&#45;&gt;140687362169904* -->\n<g id=\"edge9\" class=\"edge\">\n<title>140687362170960&#45;&gt;140687362169904*</title>\n<path fill=\"none\" stroke=\"black\" d=\"M822.29,-110.65C831.57,-108.97 840.52,-107.35 848.61,-105.89\"/>\n<polygon fill=\"black\" stroke=\"black\" points=\"849.46,-109.3 858.68,-104.07 848.21,-102.41 849.46,-109.3\"/>\n</g>\n<!-- 140687362170480 -->\n<g id=\"node4\" class=\"node\">\n<title>140687362170480</title>\n<polygon fill=\"none\" stroke=\"black\" points=\"316,-82.5 316,-118.5 508,-118.5 508,-82.5 316,-82.5\"/>\n<text text-anchor=\"middle\" x=\"327.5\" y=\"-96.8\" font-family=\"Times,serif\" font-size=\"14.00\">c</text>\n<polyline fill=\"none\" stroke=\"black\" points=\"339,-82.5 339,-118.5 \"/>\n<text text-anchor=\"middle\" x=\"382.5\" y=\"-96.8\" font-family=\"Times,serif\" font-size=\"14.00\">data 10.0000</text>\n<polyline fill=\"none\" stroke=\"black\" points=\"426,-82.5 426,-118.5 \"/>\n<text text-anchor=\"middle\" x=\"467\" y=\"-96.8\" font-family=\"Times,serif\" font-size=\"14.00\">grad 0.0000</text>\n</g>\n<!-- 140687362177200+ -->\n<g id=\"node6\" class=\"node\">\n<title>140687362177200+</title>\n<ellipse fill=\"none\" stroke=\"black\" cx=\"571\" cy=\"-72.5\" rx=\"27\" ry=\"18\"/>\n<text text-anchor=\"middle\" x=\"571\" y=\"-68.8\" font-family=\"Times,serif\" font-size=\"14.00\">+</text>\n</g>\n<!-- 140687362170480&#45;&gt;140687362177200+ -->\n<g id=\"edge4\" class=\"edge\">\n<title>140687362170480&#45;&gt;140687362177200+</title>\n<path fill=\"none\" stroke=\"black\" d=\"M508.4,-83.49C517.69,-81.83 526.64,-80.23 534.71,-78.79\"/>\n<polygon fill=\"black\" stroke=\"black\" points=\"535.53,-82.2 544.76,-77 534.31,-75.31 535.53,-82.2\"/>\n</g>\n<!-- 140687362177200 -->\n<g id=\"node5\" class=\"node\">\n<title>140687362177200</title>\n<polygon fill=\"none\" stroke=\"black\" points=\"635.5,-54.5 635.5,-90.5 820.5,-90.5 820.5,-54.5 635.5,-54.5\"/>\n<text text-anchor=\"middle\" x=\"647\" y=\"-68.8\" font-family=\"Times,serif\" font-size=\"14.00\">d</text>\n<polyline fill=\"none\" stroke=\"black\" points=\"658.5,-54.5 658.5,-90.5 \"/>\n<text text-anchor=\"middle\" x=\"698.5\" y=\"-68.8\" font-family=\"Times,serif\" font-size=\"14.00\">data 4.0000</text>\n<polyline fill=\"none\" stroke=\"black\" points=\"738.5,-54.5 738.5,-90.5 \"/>\n<text text-anchor=\"middle\" x=\"779.5\" y=\"-68.8\" font-family=\"Times,serif\" font-size=\"14.00\">grad 0.0000</text>\n</g>\n<!-- 140687362177200&#45;&gt;140687362169904* -->\n<g id=\"edge7\" class=\"edge\">\n<title>140687362177200&#45;&gt;140687362169904*</title>\n<path fill=\"none\" stroke=\"black\" d=\"M820.51,-88.44C830.48,-90.18 840.13,-91.86 848.77,-93.36\"/>\n<polygon fill=\"black\" stroke=\"black\" points=\"848.31,-96.84 858.77,-95.1 849.52,-89.94 848.31,-96.84\"/>\n</g>\n<!-- 140687362177200+&#45;&gt;140687362177200 -->\n<g id=\"edge2\" class=\"edge\">\n<title>140687362177200+&#45;&gt;140687362177200</title>\n<path fill=\"none\" stroke=\"black\" d=\"M598.29,-72.5C606.26,-72.5 615.54,-72.5 625.39,-72.5\"/>\n<polygon fill=\"black\" stroke=\"black\" points=\"625.41,-76 635.41,-72.5 625.41,-69 625.41,-76\"/>\n</g>\n<!-- 140687362177728 -->\n<g id=\"node7\" class=\"node\">\n<title>140687362177728</title>\n<polygon fill=\"none\" stroke=\"black\" points=\"317,-27.5 317,-63.5 507,-63.5 507,-27.5 317,-27.5\"/>\n<text text-anchor=\"middle\" x=\"328.5\" y=\"-41.8\" font-family=\"Times,serif\" font-size=\"14.00\">e</text>\n<polyline fill=\"none\" stroke=\"black\" points=\"340,-27.5 340,-63.5 \"/>\n<text text-anchor=\"middle\" x=\"382.5\" y=\"-41.8\" font-family=\"Times,serif\" font-size=\"14.00\">data &#45;6.0000</text>\n<polyline fill=\"none\" stroke=\"black\" points=\"425,-27.5 425,-63.5 \"/>\n<text text-anchor=\"middle\" x=\"466\" y=\"-41.8\" font-family=\"Times,serif\" font-size=\"14.00\">grad 0.0000</text>\n</g>\n<!-- 140687362177728&#45;&gt;140687362177200+ -->\n<g id=\"edge8\" class=\"edge\">\n<title>140687362177728&#45;&gt;140687362177200+</title>\n<path fill=\"none\" stroke=\"black\" d=\"M507.05,-61.67C516.78,-63.35 526.18,-64.96 534.62,-66.42\"/>\n<polygon fill=\"black\" stroke=\"black\" points=\"534.3,-69.91 544.75,-68.16 535.49,-63.01 534.3,-69.91\"/>\n</g>\n<!-- 140687362177728* -->\n<g id=\"node8\" class=\"node\">\n<title>140687362177728*</title>\n<ellipse fill=\"none\" stroke=\"black\" cx=\"253\" cy=\"-45.5\" rx=\"27\" ry=\"18\"/>\n<text text-anchor=\"middle\" x=\"253\" y=\"-41.8\" font-family=\"Times,serif\" font-size=\"14.00\">*</text>\n</g>\n<!-- 140687362177728*&#45;&gt;140687362177728 -->\n<g id=\"edge3\" class=\"edge\">\n<title>140687362177728*&#45;&gt;140687362177728</title>\n<path fill=\"none\" stroke=\"black\" d=\"M280.28,-45.5C288.05,-45.5 297.08,-45.5 306.68,-45.5\"/>\n<polygon fill=\"black\" stroke=\"black\" points=\"306.88,-49 316.88,-45.5 306.88,-42 306.88,-49\"/>\n</g>\n<!-- 140687362168560 -->\n<g id=\"node9\" class=\"node\">\n<title>140687362168560</title>\n<polygon fill=\"none\" stroke=\"black\" points=\"0,-55.5 0,-91.5 190,-91.5 190,-55.5 0,-55.5\"/>\n<text text-anchor=\"middle\" x=\"11.5\" y=\"-69.8\" font-family=\"Times,serif\" font-size=\"14.00\">b</text>\n<polyline fill=\"none\" stroke=\"black\" points=\"23,-55.5 23,-91.5 \"/>\n<text text-anchor=\"middle\" x=\"65.5\" y=\"-69.8\" font-family=\"Times,serif\" font-size=\"14.00\">data &#45;3.0000</text>\n<polyline fill=\"none\" stroke=\"black\" points=\"108,-55.5 108,-91.5 \"/>\n<text text-anchor=\"middle\" x=\"149\" y=\"-69.8\" font-family=\"Times,serif\" font-size=\"14.00\">grad 0.0000</text>\n</g>\n<!-- 140687362168560&#45;&gt;140687362177728* -->\n<g id=\"edge6\" class=\"edge\">\n<title>140687362168560&#45;&gt;140687362177728*</title>\n<path fill=\"none\" stroke=\"black\" d=\"M190.34,-56.57C199.62,-54.9 208.58,-53.29 216.66,-51.84\"/>\n<polygon fill=\"black\" stroke=\"black\" points=\"217.49,-55.25 226.72,-50.04 216.26,-48.36 217.49,-55.25\"/>\n</g>\n<!-- 140687362178976 -->\n<g id=\"node10\" class=\"node\">\n<title>140687362178976</title>\n<polygon fill=\"none\" stroke=\"black\" points=\"2.5,-0.5 2.5,-36.5 187.5,-36.5 187.5,-0.5 2.5,-0.5\"/>\n<text text-anchor=\"middle\" x=\"14\" y=\"-14.8\" font-family=\"Times,serif\" font-size=\"14.00\">a</text>\n<polyline fill=\"none\" stroke=\"black\" points=\"25.5,-0.5 25.5,-36.5 \"/>\n<text text-anchor=\"middle\" x=\"65.5\" y=\"-14.8\" font-family=\"Times,serif\" font-size=\"14.00\">data 2.0000</text>\n<polyline fill=\"none\" stroke=\"black\" points=\"105.5,-0.5 105.5,-36.5 \"/>\n<text text-anchor=\"middle\" x=\"146.5\" y=\"-14.8\" font-family=\"Times,serif\" font-size=\"14.00\">grad 0.0000</text>\n</g>\n<!-- 140687362178976&#45;&gt;140687362177728* -->\n<g id=\"edge5\" class=\"edge\">\n<title>140687362178976&#45;&gt;140687362177728*</title>\n<path fill=\"none\" stroke=\"black\" d=\"M187.65,-34.36C197.94,-36.14 207.91,-37.87 216.81,-39.41\"/>\n<polygon fill=\"black\" stroke=\"black\" points=\"216.26,-42.87 226.71,-41.12 217.45,-35.97 216.26,-42.87\"/>\n</g>\n</g>\n</svg>\n",
            "text/plain": [
              "<graphviz.graphs.Digraph at 0x7ff4543f1f90>"
            ]
          },
          "metadata": {},
          "execution_count": 14
        }
      ]
    },
    {
      "cell_type": "markdown",
      "source": [
        "## Until now:\n",
        "* I can get a mathematical expression (L) and I can represent the forward pass\n",
        "* But, grad says always 0 because the backwards pass is not implemented\n",
        "\n",
        "## Next step is to do the backprop pass.\n",
        "* For that I need the derivative of L with respect to each node (d, f, c...)\n",
        "* I want dL/dL, which is 1, but I want to imput it to all the other nodes.\n",
        "* dL/df, dL/dd...\n",
        "* And I can do this numerically, using the limit definition like above.\n",
        "* For example, a + node will produce a 1.0 \"local\" derivative. (d = c + e, so dL/dc = dL/dd * dd/dc) and I know that dd/dc = 1\n",
        "* However, when I get to a * node I get a different expression:\n",
        "\n",
        "dL/da = dL/dd * dd/de * (de/da) -- see how to differentiate a product\n",
        "\n",
        "**Important to note, I only have influence on the \"leaf\" nodes, like a, b, c and f, not on the intermediate nodes like d and e. Therefore, I only apply backprop to a, b, c and f.** "
      ],
      "metadata": {
        "id": "2xVVUmTv9tT9"
      }
    },
    {
      "cell_type": "markdown",
      "source": [
        "Now I'm going to apply backpropagation to a neuron. It's more interesting that the previous example although it's going to be similar."
      ],
      "metadata": {
        "id": "LDWmzvNXam2F"
      }
    },
    {
      "cell_type": "code",
      "source": [
        "# Inputs: X1 and X2. With weights W1 and W2 and bias b.\n",
        "\n",
        "x1 = Value(2.0, label = \"X1\")\n",
        "x2 = Value(0.0, label = \"X2\")\n",
        "W1 = Value(-3.0, label = \"W1\")\n",
        "W2 = Value(1.0, label = \"W2\")\n",
        "b = Value(6.88137, label = \"b\") # This number in particular for numerical reasons later.\n",
        "\n",
        "# Now do the intermediate steps to have access to them.\n",
        "X1W1 = x1 * W1; X1W1.label = \"X1W1\"\n",
        "X2W2 = x2 * W2; X2W2.label = \"X2W2\"\n",
        "\n",
        "X1W1X2W2 = X1W1 + X2W2; X1W1X2W2.label = \"X1W1X2W2\"\n",
        "\n",
        "#For the moment I don't apply an activation.\n",
        "n = X1W1X2W2 + b; n.label = \"n\"\n",
        "\n",
        "# Output of the neuron, apply the activation\n",
        "o = n.tanh(); o.label = \"O\" # And I implemented tanh before in Value\n",
        "\n",
        "\n",
        "\n"
      ],
      "metadata": {
        "id": "zsDcn0-L-CvO"
      },
      "execution_count": 24,
      "outputs": []
    },
    {
      "cell_type": "code",
      "source": [
        "# And see if I can draw it\n",
        "\n",
        "draw_dot(o)"
      ],
      "metadata": {
        "id": "wRg_3KmEgM2s",
        "outputId": "abb7af50-fea2-414f-c9a4-3c2d045030d9",
        "colab": {
          "base_uri": "https://localhost:8080/",
          "height": 322
        }
      },
      "execution_count": 25,
      "outputs": [
        {
          "output_type": "execute_result",
          "data": {
            "image/svg+xml": "<?xml version=\"1.0\" encoding=\"UTF-8\" standalone=\"no\"?>\n<!DOCTYPE svg PUBLIC \"-//W3C//DTD SVG 1.1//EN\"\n \"http://www.w3.org/Graphics/SVG/1.1/DTD/svg11.dtd\">\n<!-- Generated by graphviz version 2.43.0 (0)\n -->\n<!-- Title: %3 Pages: 1 -->\n<svg width=\"1566pt\" height=\"210pt\"\n viewBox=\"0.00 0.00 1566.00 210.00\" xmlns=\"http://www.w3.org/2000/svg\" xmlns:xlink=\"http://www.w3.org/1999/xlink\">\n<g id=\"graph0\" class=\"graph\" transform=\"scale(1 1) rotate(0) translate(4 206)\">\n<title>%3</title>\n<polygon fill=\"white\" stroke=\"transparent\" points=\"-4,4 -4,-206 1562,-206 1562,4 -4,4\"/>\n<!-- 140686610068480 -->\n<g id=\"node1\" class=\"node\">\n<title>140686610068480</title>\n<polygon fill=\"none\" stroke=\"black\" points=\"1059,-109.5 1059,-145.5 1244,-145.5 1244,-109.5 1059,-109.5\"/>\n<text text-anchor=\"middle\" x=\"1070.5\" y=\"-123.8\" font-family=\"Times,serif\" font-size=\"14.00\">n</text>\n<polyline fill=\"none\" stroke=\"black\" points=\"1082,-109.5 1082,-145.5 \"/>\n<text text-anchor=\"middle\" x=\"1122\" y=\"-123.8\" font-family=\"Times,serif\" font-size=\"14.00\">data 0.8814</text>\n<polyline fill=\"none\" stroke=\"black\" points=\"1162,-109.5 1162,-145.5 \"/>\n<text text-anchor=\"middle\" x=\"1203\" y=\"-123.8\" font-family=\"Times,serif\" font-size=\"14.00\">grad 0.0000</text>\n</g>\n<!-- 140686610059072tanh -->\n<g id=\"node12\" class=\"node\">\n<title>140686610059072tanh</title>\n<ellipse fill=\"none\" stroke=\"black\" cx=\"1307\" cy=\"-127.5\" rx=\"27\" ry=\"18\"/>\n<text text-anchor=\"middle\" x=\"1307\" y=\"-123.8\" font-family=\"Times,serif\" font-size=\"14.00\">tanh</text>\n</g>\n<!-- 140686610068480&#45;&gt;140686610059072tanh -->\n<g id=\"edge6\" class=\"edge\">\n<title>140686610068480&#45;&gt;140686610059072tanh</title>\n<path fill=\"none\" stroke=\"black\" d=\"M1244.01,-127.5C1253.01,-127.5 1261.74,-127.5 1269.66,-127.5\"/>\n<polygon fill=\"black\" stroke=\"black\" points=\"1269.91,-131 1279.91,-127.5 1269.91,-124 1269.91,-131\"/>\n</g>\n<!-- 140686610068480+ -->\n<g id=\"node2\" class=\"node\">\n<title>140686610068480+</title>\n<ellipse fill=\"none\" stroke=\"black\" cx=\"996\" cy=\"-127.5\" rx=\"27\" ry=\"18\"/>\n<text text-anchor=\"middle\" x=\"996\" y=\"-123.8\" font-family=\"Times,serif\" font-size=\"14.00\">+</text>\n</g>\n<!-- 140686610068480+&#45;&gt;140686610068480 -->\n<g id=\"edge1\" class=\"edge\">\n<title>140686610068480+&#45;&gt;140686610068480</title>\n<path fill=\"none\" stroke=\"black\" d=\"M1023.04,-127.5C1030.58,-127.5 1039.3,-127.5 1048.57,-127.5\"/>\n<polygon fill=\"black\" stroke=\"black\" points=\"1048.81,-131 1058.81,-127.5 1048.81,-124 1048.81,-131\"/>\n</g>\n<!-- 140686610059840 -->\n<g id=\"node3\" class=\"node\">\n<title>140686610059840</title>\n<polygon fill=\"none\" stroke=\"black\" points=\"330,-110.5 330,-146.5 550,-146.5 550,-110.5 330,-110.5\"/>\n<text text-anchor=\"middle\" x=\"356.5\" y=\"-124.8\" font-family=\"Times,serif\" font-size=\"14.00\">X1W1</text>\n<polyline fill=\"none\" stroke=\"black\" points=\"383,-110.5 383,-146.5 \"/>\n<text text-anchor=\"middle\" x=\"425.5\" y=\"-124.8\" font-family=\"Times,serif\" font-size=\"14.00\">data &#45;6.0000</text>\n<polyline fill=\"none\" stroke=\"black\" points=\"468,-110.5 468,-146.5 \"/>\n<text text-anchor=\"middle\" x=\"509\" y=\"-124.8\" font-family=\"Times,serif\" font-size=\"14.00\">grad 0.0000</text>\n</g>\n<!-- 140686610059168+ -->\n<g id=\"node15\" class=\"node\">\n<title>140686610059168+</title>\n<ellipse fill=\"none\" stroke=\"black\" cx=\"613\" cy=\"-100.5\" rx=\"27\" ry=\"18\"/>\n<text text-anchor=\"middle\" x=\"613\" y=\"-96.8\" font-family=\"Times,serif\" font-size=\"14.00\">+</text>\n</g>\n<!-- 140686610059840&#45;&gt;140686610059168+ -->\n<g id=\"edge12\" class=\"edge\">\n<title>140686610059840&#45;&gt;140686610059168+</title>\n<path fill=\"none\" stroke=\"black\" d=\"M550.27,-110.61C559.64,-109.07 568.6,-107.61 576.65,-106.29\"/>\n<polygon fill=\"black\" stroke=\"black\" points=\"577.35,-109.72 586.65,-104.65 576.22,-102.81 577.35,-109.72\"/>\n</g>\n<!-- 140686610059840* -->\n<g id=\"node4\" class=\"node\">\n<title>140686610059840*</title>\n<ellipse fill=\"none\" stroke=\"black\" cx=\"267\" cy=\"-128.5\" rx=\"27\" ry=\"18\"/>\n<text text-anchor=\"middle\" x=\"267\" y=\"-124.8\" font-family=\"Times,serif\" font-size=\"14.00\">*</text>\n</g>\n<!-- 140686610059840*&#45;&gt;140686610059840 -->\n<g id=\"edge2\" class=\"edge\">\n<title>140686610059840*&#45;&gt;140686610059840</title>\n<path fill=\"none\" stroke=\"black\" d=\"M294.34,-128.5C301.77,-128.5 310.37,-128.5 319.6,-128.5\"/>\n<polygon fill=\"black\" stroke=\"black\" points=\"319.84,-132 329.84,-128.5 319.84,-125 319.84,-132\"/>\n</g>\n<!-- 140686610067568 -->\n<g id=\"node5\" class=\"node\">\n<title>140686610067568</title>\n<polygon fill=\"none\" stroke=\"black\" points=\"0,-165.5 0,-201.5 204,-201.5 204,-165.5 0,-165.5\"/>\n<text text-anchor=\"middle\" x=\"18.5\" y=\"-179.8\" font-family=\"Times,serif\" font-size=\"14.00\">W1</text>\n<polyline fill=\"none\" stroke=\"black\" points=\"37,-165.5 37,-201.5 \"/>\n<text text-anchor=\"middle\" x=\"79.5\" y=\"-179.8\" font-family=\"Times,serif\" font-size=\"14.00\">data &#45;3.0000</text>\n<polyline fill=\"none\" stroke=\"black\" points=\"122,-165.5 122,-201.5 \"/>\n<text text-anchor=\"middle\" x=\"163\" y=\"-179.8\" font-family=\"Times,serif\" font-size=\"14.00\">grad 0.0000</text>\n</g>\n<!-- 140686610067568&#45;&gt;140686610059840* -->\n<g id=\"edge7\" class=\"edge\">\n<title>140686610067568&#45;&gt;140686610059840*</title>\n<path fill=\"none\" stroke=\"black\" d=\"M176.26,-165.43C185.67,-162.67 195.11,-159.67 204,-156.5 214.54,-152.74 225.77,-147.93 235.73,-143.36\"/>\n<polygon fill=\"black\" stroke=\"black\" points=\"237.26,-146.51 244.83,-139.09 234.29,-140.17 237.26,-146.51\"/>\n</g>\n<!-- 140686610062960 -->\n<g id=\"node6\" class=\"node\">\n<title>140686610062960</title>\n<polygon fill=\"none\" stroke=\"black\" points=\"4.5,-110.5 4.5,-146.5 199.5,-146.5 199.5,-110.5 4.5,-110.5\"/>\n<text text-anchor=\"middle\" x=\"21\" y=\"-124.8\" font-family=\"Times,serif\" font-size=\"14.00\">X1</text>\n<polyline fill=\"none\" stroke=\"black\" points=\"37.5,-110.5 37.5,-146.5 \"/>\n<text text-anchor=\"middle\" x=\"77.5\" y=\"-124.8\" font-family=\"Times,serif\" font-size=\"14.00\">data 2.0000</text>\n<polyline fill=\"none\" stroke=\"black\" points=\"117.5,-110.5 117.5,-146.5 \"/>\n<text text-anchor=\"middle\" x=\"158.5\" y=\"-124.8\" font-family=\"Times,serif\" font-size=\"14.00\">grad 0.0000</text>\n</g>\n<!-- 140686610062960&#45;&gt;140686610059840* -->\n<g id=\"edge8\" class=\"edge\">\n<title>140686610062960&#45;&gt;140686610059840*</title>\n<path fill=\"none\" stroke=\"black\" d=\"M199.7,-128.5C210.34,-128.5 220.63,-128.5 229.79,-128.5\"/>\n<polygon fill=\"black\" stroke=\"black\" points=\"229.99,-132 239.99,-128.5 229.99,-125 229.99,-132\"/>\n</g>\n<!-- 140686610055856 -->\n<g id=\"node7\" class=\"node\">\n<title>140686610055856</title>\n<polygon fill=\"none\" stroke=\"black\" points=\"4.5,-55.5 4.5,-91.5 199.5,-91.5 199.5,-55.5 4.5,-55.5\"/>\n<text text-anchor=\"middle\" x=\"21\" y=\"-69.8\" font-family=\"Times,serif\" font-size=\"14.00\">X2</text>\n<polyline fill=\"none\" stroke=\"black\" points=\"37.5,-55.5 37.5,-91.5 \"/>\n<text text-anchor=\"middle\" x=\"77.5\" y=\"-69.8\" font-family=\"Times,serif\" font-size=\"14.00\">data 0.0000</text>\n<polyline fill=\"none\" stroke=\"black\" points=\"117.5,-55.5 117.5,-91.5 \"/>\n<text text-anchor=\"middle\" x=\"158.5\" y=\"-69.8\" font-family=\"Times,serif\" font-size=\"14.00\">grad 0.0000</text>\n</g>\n<!-- 140686610061568* -->\n<g id=\"node10\" class=\"node\">\n<title>140686610061568*</title>\n<ellipse fill=\"none\" stroke=\"black\" cx=\"267\" cy=\"-73.5\" rx=\"27\" ry=\"18\"/>\n<text text-anchor=\"middle\" x=\"267\" y=\"-69.8\" font-family=\"Times,serif\" font-size=\"14.00\">*</text>\n</g>\n<!-- 140686610055856&#45;&gt;140686610061568* -->\n<g id=\"edge11\" class=\"edge\">\n<title>140686610055856&#45;&gt;140686610061568*</title>\n<path fill=\"none\" stroke=\"black\" d=\"M199.7,-73.5C210.34,-73.5 220.63,-73.5 229.79,-73.5\"/>\n<polygon fill=\"black\" stroke=\"black\" points=\"229.99,-77 239.99,-73.5 229.99,-70 229.99,-77\"/>\n</g>\n<!-- 140686610057440 -->\n<g id=\"node8\" class=\"node\">\n<title>140686610057440</title>\n<polygon fill=\"none\" stroke=\"black\" points=\"712,-137.5 712,-173.5 897,-173.5 897,-137.5 712,-137.5\"/>\n<text text-anchor=\"middle\" x=\"723.5\" y=\"-151.8\" font-family=\"Times,serif\" font-size=\"14.00\">b</text>\n<polyline fill=\"none\" stroke=\"black\" points=\"735,-137.5 735,-173.5 \"/>\n<text text-anchor=\"middle\" x=\"775\" y=\"-151.8\" font-family=\"Times,serif\" font-size=\"14.00\">data 6.8814</text>\n<polyline fill=\"none\" stroke=\"black\" points=\"815,-137.5 815,-173.5 \"/>\n<text text-anchor=\"middle\" x=\"856\" y=\"-151.8\" font-family=\"Times,serif\" font-size=\"14.00\">grad 0.0000</text>\n</g>\n<!-- 140686610057440&#45;&gt;140686610068480+ -->\n<g id=\"edge13\" class=\"edge\">\n<title>140686610057440&#45;&gt;140686610068480+</title>\n<path fill=\"none\" stroke=\"black\" d=\"M897.2,-141.95C919.1,-138.71 941.23,-135.45 958.88,-132.84\"/>\n<polygon fill=\"black\" stroke=\"black\" points=\"959.87,-136.23 969.25,-131.3 958.84,-129.3 959.87,-136.23\"/>\n</g>\n<!-- 140686610061568 -->\n<g id=\"node9\" class=\"node\">\n<title>140686610061568</title>\n<polygon fill=\"none\" stroke=\"black\" points=\"332.5,-55.5 332.5,-91.5 547.5,-91.5 547.5,-55.5 332.5,-55.5\"/>\n<text text-anchor=\"middle\" x=\"359\" y=\"-69.8\" font-family=\"Times,serif\" font-size=\"14.00\">X2W2</text>\n<polyline fill=\"none\" stroke=\"black\" points=\"385.5,-55.5 385.5,-91.5 \"/>\n<text text-anchor=\"middle\" x=\"425.5\" y=\"-69.8\" font-family=\"Times,serif\" font-size=\"14.00\">data 0.0000</text>\n<polyline fill=\"none\" stroke=\"black\" points=\"465.5,-55.5 465.5,-91.5 \"/>\n<text text-anchor=\"middle\" x=\"506.5\" y=\"-69.8\" font-family=\"Times,serif\" font-size=\"14.00\">grad 0.0000</text>\n</g>\n<!-- 140686610061568&#45;&gt;140686610059168+ -->\n<g id=\"edge9\" class=\"edge\">\n<title>140686610061568&#45;&gt;140686610059168+</title>\n<path fill=\"none\" stroke=\"black\" d=\"M547.84,-90.37C558.01,-91.98 567.76,-93.51 576.44,-94.89\"/>\n<polygon fill=\"black\" stroke=\"black\" points=\"576.05,-98.37 586.47,-96.47 577.14,-91.45 576.05,-98.37\"/>\n</g>\n<!-- 140686610061568*&#45;&gt;140686610061568 -->\n<g id=\"edge3\" class=\"edge\">\n<title>140686610061568*&#45;&gt;140686610061568</title>\n<path fill=\"none\" stroke=\"black\" d=\"M294.34,-73.5C302.51,-73.5 312.08,-73.5 322.36,-73.5\"/>\n<polygon fill=\"black\" stroke=\"black\" points=\"322.39,-77 332.39,-73.5 322.39,-70 322.39,-77\"/>\n</g>\n<!-- 140686610059072 -->\n<g id=\"node11\" class=\"node\">\n<title>140686610059072</title>\n<polygon fill=\"none\" stroke=\"black\" points=\"1370,-109.5 1370,-145.5 1558,-145.5 1558,-109.5 1370,-109.5\"/>\n<text text-anchor=\"middle\" x=\"1383\" y=\"-123.8\" font-family=\"Times,serif\" font-size=\"14.00\">O</text>\n<polyline fill=\"none\" stroke=\"black\" points=\"1396,-109.5 1396,-145.5 \"/>\n<text text-anchor=\"middle\" x=\"1436\" y=\"-123.8\" font-family=\"Times,serif\" font-size=\"14.00\">data 0.7071</text>\n<polyline fill=\"none\" stroke=\"black\" points=\"1476,-109.5 1476,-145.5 \"/>\n<text text-anchor=\"middle\" x=\"1517\" y=\"-123.8\" font-family=\"Times,serif\" font-size=\"14.00\">grad 0.0000</text>\n</g>\n<!-- 140686610059072tanh&#45;&gt;140686610059072 -->\n<g id=\"edge4\" class=\"edge\">\n<title>140686610059072tanh&#45;&gt;140686610059072</title>\n<path fill=\"none\" stroke=\"black\" d=\"M1334.29,-127.5C1341.78,-127.5 1350.42,-127.5 1359.6,-127.5\"/>\n<polygon fill=\"black\" stroke=\"black\" points=\"1359.76,-131 1369.76,-127.5 1359.76,-124 1359.76,-131\"/>\n</g>\n<!-- 140686610065264 -->\n<g id=\"node13\" class=\"node\">\n<title>140686610065264</title>\n<polygon fill=\"none\" stroke=\"black\" points=\"2.5,-0.5 2.5,-36.5 201.5,-36.5 201.5,-0.5 2.5,-0.5\"/>\n<text text-anchor=\"middle\" x=\"21\" y=\"-14.8\" font-family=\"Times,serif\" font-size=\"14.00\">W2</text>\n<polyline fill=\"none\" stroke=\"black\" points=\"39.5,-0.5 39.5,-36.5 \"/>\n<text text-anchor=\"middle\" x=\"79.5\" y=\"-14.8\" font-family=\"Times,serif\" font-size=\"14.00\">data 1.0000</text>\n<polyline fill=\"none\" stroke=\"black\" points=\"119.5,-0.5 119.5,-36.5 \"/>\n<text text-anchor=\"middle\" x=\"160.5\" y=\"-14.8\" font-family=\"Times,serif\" font-size=\"14.00\">grad 0.0000</text>\n</g>\n<!-- 140686610065264&#45;&gt;140686610061568* -->\n<g id=\"edge14\" class=\"edge\">\n<title>140686610065264&#45;&gt;140686610061568*</title>\n<path fill=\"none\" stroke=\"black\" d=\"M172.94,-36.51C183.43,-39.61 194.05,-42.97 204,-46.5 214.29,-50.15 225.29,-54.71 235.12,-59.04\"/>\n<polygon fill=\"black\" stroke=\"black\" points=\"233.94,-62.34 244.49,-63.25 236.8,-55.96 233.94,-62.34\"/>\n</g>\n<!-- 140686610059168 -->\n<g id=\"node14\" class=\"node\">\n<title>140686610059168</title>\n<polygon fill=\"none\" stroke=\"black\" points=\"676,-82.5 676,-118.5 933,-118.5 933,-82.5 676,-82.5\"/>\n<text text-anchor=\"middle\" x=\"721\" y=\"-96.8\" font-family=\"Times,serif\" font-size=\"14.00\">X1W1X2W2</text>\n<polyline fill=\"none\" stroke=\"black\" points=\"766,-82.5 766,-118.5 \"/>\n<text text-anchor=\"middle\" x=\"808.5\" y=\"-96.8\" font-family=\"Times,serif\" font-size=\"14.00\">data &#45;6.0000</text>\n<polyline fill=\"none\" stroke=\"black\" points=\"851,-82.5 851,-118.5 \"/>\n<text text-anchor=\"middle\" x=\"892\" y=\"-96.8\" font-family=\"Times,serif\" font-size=\"14.00\">grad 0.0000</text>\n</g>\n<!-- 140686610059168&#45;&gt;140686610068480+ -->\n<g id=\"edge10\" class=\"edge\">\n<title>140686610059168&#45;&gt;140686610068480+</title>\n<path fill=\"none\" stroke=\"black\" d=\"M931.9,-118.51C941.73,-119.91 951.05,-121.24 959.36,-122.42\"/>\n<polygon fill=\"black\" stroke=\"black\" points=\"958.92,-125.89 969.31,-123.84 959.9,-118.96 958.92,-125.89\"/>\n</g>\n<!-- 140686610059168+&#45;&gt;140686610059168 -->\n<g id=\"edge5\" class=\"edge\">\n<title>140686610059168+&#45;&gt;140686610059168</title>\n<path fill=\"none\" stroke=\"black\" d=\"M640.35,-100.5C647.82,-100.5 656.51,-100.5 665.91,-100.5\"/>\n<polygon fill=\"black\" stroke=\"black\" points=\"665.94,-104 675.94,-100.5 665.94,-97 665.94,-104\"/>\n</g>\n</g>\n</svg>\n",
            "text/plain": [
              "<graphviz.graphs.Digraph at 0x7ff4276ac820>"
            ]
          },
          "metadata": {},
          "execution_count": 25
        }
      ]
    },
    {
      "cell_type": "code",
      "source": [
        "# I know that by definition o.grad = do/do = 1\n",
        "\n",
        "o.grad = 1.0\n",
        "\n",
        "# And I also know that I want do/dn, with o = tanh(n). So one of the ways to compute dtanh(x)/dx = 1 - tanh(x)^2 = 1 - o^2\n",
        "\n",
        "1- o.data**2"
      ],
      "metadata": {
        "id": "9vyyYNIqgTlT",
        "outputId": "96912dbc-60c4-43ce-8a01-078af4a111f8",
        "colab": {
          "base_uri": "https://localhost:8080/"
        }
      },
      "execution_count": 29,
      "outputs": [
        {
          "output_type": "execute_result",
          "data": {
            "text/plain": [
              "0.5000025364090595"
            ]
          },
          "metadata": {},
          "execution_count": 29
        }
      ]
    },
    {
      "cell_type": "code",
      "source": [
        "#https://youtu.be/VMj-3S1tku0?list=PLAqhIrjkxbuWI23v9cThsA9GvCAUhRvKZ&t=4135"
      ],
      "metadata": {
        "id": "N_DL4jn5iOmM"
      },
      "execution_count": null,
      "outputs": []
    }
  ],
  "metadata": {
    "colab": {
      "provenance": [],
      "include_colab_link": true
    },
    "kernelspec": {
      "display_name": "dbt_13",
      "language": "python",
      "name": "python3"
    },
    "language_info": {
      "codemirror_mode": {
        "name": "ipython",
        "version": 3
      },
      "file_extension": ".py",
      "mimetype": "text/x-python",
      "name": "python",
      "nbconvert_exporter": "python",
      "pygments_lexer": "ipython3",
      "version": "3.10.10"
    },
    "vscode": {
      "interpreter": {
        "hash": "c95f06af5cc293931129b1f6560e12509c2c49fa9f3d6bb87d157ed2f6fb8694"
      }
    }
  },
  "nbformat": 4,
  "nbformat_minor": 0
}
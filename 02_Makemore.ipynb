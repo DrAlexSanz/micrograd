{
  "cells": [
    {
      "cell_type": "markdown",
      "metadata": {
        "id": "view-in-github",
        "colab_type": "text"
      },
      "source": [
        "<a href=\"https://colab.research.google.com/github/DrAlexSanz/micrograd/blob/main/02_Makemore.ipynb\" target=\"_parent\"><img src=\"https://colab.research.google.com/assets/colab-badge.svg\" alt=\"Open In Colab\"/></a>"
      ]
    },
    {
      "cell_type": "markdown",
      "metadata": {
        "id": "n09nqI5a7dFg"
      },
      "source": [
        "# Goal of this notebook\n",
        "\n",
        "* Following Karpathy's 3rd lecture on Makemore\n",
        "\n",
        "https://youtu.be/TCH_1BHY58I?list=PLAqhIrjkxbuWI23v9cThsA9GvCAUhRvKZ&t=2279"
      ]
    },
    {
      "cell_type": "code",
      "source": [
        "import random\n",
        "import torch\n",
        "import torch.nn.functional as F # for laterhttps://youtu.be/TCH_1BHY58I?list=PLAqhIrjkxbuWI23v9cThsA9GvCAUhRvKZ&t=2279\n",
        "import matplotlib.pyplot as plt\n",
        "%matplotlib inline"
      ],
      "metadata": {
        "id": "QJrqMJYYuT2o"
      },
      "execution_count": 72,
      "outputs": []
    },
    {
      "cell_type": "code",
      "source": [
        "!wget https://raw.githubusercontent.com/karpathy/makemore/master/names.txt"
      ],
      "metadata": {
        "id": "BlP41EL2o1rr",
        "outputId": "d951219d-9126-4f9d-9c79-3217754d6f65",
        "colab": {
          "base_uri": "https://localhost:8080/"
        }
      },
      "execution_count": 73,
      "outputs": [
        {
          "output_type": "stream",
          "name": "stdout",
          "text": [
            "--2024-01-05 13:34:51--  https://raw.githubusercontent.com/karpathy/makemore/master/names.txt\n",
            "Resolving raw.githubusercontent.com (raw.githubusercontent.com)... 185.199.111.133, 185.199.108.133, 185.199.110.133, ...\n",
            "Connecting to raw.githubusercontent.com (raw.githubusercontent.com)|185.199.111.133|:443... connected.\n",
            "HTTP request sent, awaiting response... 200 OK\n",
            "Length: 228145 (223K) [text/plain]\n",
            "Saving to: ‘names.txt.2’\n",
            "\n",
            "names.txt.2         100%[===================>] 222.80K  --.-KB/s    in 0.01s   \n",
            "\n",
            "2024-01-05 13:34:51 (22.5 MB/s) - ‘names.txt.2’ saved [228145/228145]\n",
            "\n"
          ]
        }
      ]
    },
    {
      "cell_type": "code",
      "source": [
        "words = open(\"names.txt\", \"r\").read().splitlines()\n",
        "#words[:8]"
      ],
      "metadata": {
        "id": "oNwydlldkfWG"
      },
      "execution_count": 74,
      "outputs": []
    },
    {
      "cell_type": "code",
      "source": [
        "len(words)"
      ],
      "metadata": {
        "id": "liNfE2d7kpD2",
        "outputId": "c1f3aa3c-68a6-4c1c-db9a-5dbe405f6f98",
        "colab": {
          "base_uri": "https://localhost:8080/"
        }
      },
      "execution_count": 75,
      "outputs": [
        {
          "output_type": "execute_result",
          "data": {
            "text/plain": [
              "32033"
            ]
          },
          "metadata": {},
          "execution_count": 75
        }
      ]
    },
    {
      "cell_type": "code",
      "source": [
        "chars = sorted(list(set(''.join(words))))\n",
        "stoi = {s:i+1 for i,s in enumerate(chars)}\n",
        "stoi['.'] = 0\n",
        "itos = {i:s for s,i in stoi.items()}\n",
        "print(itos)"
      ],
      "metadata": {
        "id": "87WP5bPyl7oO",
        "outputId": "a813d419-e7d4-481a-f609-8edceac6399f",
        "colab": {
          "base_uri": "https://localhost:8080/"
        }
      },
      "execution_count": 76,
      "outputs": [
        {
          "output_type": "stream",
          "name": "stdout",
          "text": [
            "{1: 'a', 2: 'b', 3: 'c', 4: 'd', 5: 'e', 6: 'f', 7: 'g', 8: 'h', 9: 'i', 10: 'j', 11: 'k', 12: 'l', 13: 'm', 14: 'n', 15: 'o', 16: 'p', 17: 'q', 18: 'r', 19: 's', 20: 't', 21: 'u', 22: 'v', 23: 'w', 24: 'x', 25: 'y', 26: 'z', 0: '.'}\n"
          ]
        }
      ]
    },
    {
      "cell_type": "code",
      "source": [
        "# Build the dataset for the NN\n",
        "\n",
        "block_size = 3 # This is the context lenght. How many characters do I take to predict the next one.\n",
        "\n",
        "X, Y = [], []\n",
        "\n",
        "for w in words:\n",
        "    #print(w)\n",
        "    context = [0] * block_size\n",
        "\n",
        "    for ch in w + \".\":\n",
        "        ix = stoi[ch]\n",
        "        X.append(context)\n",
        "        Y.append(ix)\n",
        "        #print(\"\".join(itos[i] for i in context), \"----->\", itos[ix])\n",
        "        context = context[1:] + [ix] # Crop and append\n",
        "\n",
        "X = torch.tensor(X)\n",
        "Y = torch.tensor(Y)"
      ],
      "metadata": {
        "id": "byE1Kkwxk4x-"
      },
      "execution_count": 77,
      "outputs": []
    },
    {
      "cell_type": "code",
      "source": [
        "# Same thing but in a function\n",
        "# build the dataset\n",
        "block_size = 3 # context length: how many characters do we take to predict the next one?\n",
        "\n",
        "def build_dataset(words):\n",
        "  X, Y = [], []\n",
        "  for w in words:\n",
        "\n",
        "    #print(w)\n",
        "    context = [0] * block_size\n",
        "    for ch in w + '.':\n",
        "      ix = stoi[ch]\n",
        "      X.append(context)\n",
        "      Y.append(ix)\n",
        "      #print(''.join(itos[i] for i in context), '--->', itos[ix])\n",
        "      context = context[1:] + [ix] # crop and append\n",
        "\n",
        "  X = torch.tensor(X)\n",
        "  Y = torch.tensor(Y)\n",
        "  print(X.shape, Y.shape)\n",
        "  return X, Y\n",
        "\n",
        "random.seed(42)\n",
        "random.shuffle(words)\n",
        "n1 = int(0.8*len(words))\n",
        "n2 = int(0.9*len(words))\n",
        "\n",
        "Xtr, Ytr = build_dataset(words[:n1])\n",
        "Xdev, Ydev = build_dataset(words[n1:n2])\n",
        "Xte, Yte = build_dataset(words[n2:])"
      ],
      "metadata": {
        "id": "qC0025221Nqb",
        "outputId": "5808b947-e6d5-473a-88cf-eb56dffa4f95",
        "colab": {
          "base_uri": "https://localhost:8080/"
        }
      },
      "execution_count": 78,
      "outputs": [
        {
          "output_type": "stream",
          "name": "stdout",
          "text": [
            "torch.Size([182625, 3]) torch.Size([182625])\n",
            "torch.Size([22655, 3]) torch.Size([22655])\n",
            "torch.Size([22866, 3]) torch.Size([22866])\n"
          ]
        }
      ]
    },
    {
      "cell_type": "code",
      "source": [
        "# And to see the shapes of what I will input in the NN (X) and the labels (Y)\n",
        "\n",
        "X.shape, X.dtype, Y.shape, Y.dtype"
      ],
      "metadata": {
        "id": "jRYnFEazmo-O",
        "outputId": "52878472-c56d-432b-a65e-42e1e2c70fa7",
        "colab": {
          "base_uri": "https://localhost:8080/"
        }
      },
      "execution_count": 79,
      "outputs": [
        {
          "output_type": "execute_result",
          "data": {
            "text/plain": [
              "(torch.Size([228146, 3]), torch.int64, torch.Size([228146]), torch.int64)"
            ]
          },
          "metadata": {},
          "execution_count": 79
        }
      ]
    },
    {
      "cell_type": "code",
      "source": [
        "# Now I build the embedding layer (Remember it's a matrix multiplication in the end, that acts as a lookup table).\n",
        "# This is a neural network layer with no non-linearities.\n",
        "# I have 27 characters (rows) and I will embed them in a 2D vector space (columns). 2 is arbitrary\n",
        "\n",
        "# Initialize randomly\n",
        "C = torch.randn((27, 2))\n",
        "C"
      ],
      "metadata": {
        "id": "wm2fYlLEmydu",
        "outputId": "c970b99d-97b1-41a8-c08b-19c245da431c",
        "colab": {
          "base_uri": "https://localhost:8080/"
        }
      },
      "execution_count": 80,
      "outputs": [
        {
          "output_type": "execute_result",
          "data": {
            "text/plain": [
              "tensor([[ 0.0366, -0.0135],\n",
              "        [-0.9310, -0.9215],\n",
              "        [-0.4705,  0.4743],\n",
              "        [ 0.1955, -0.3226],\n",
              "        [ 0.0717, -1.6041],\n",
              "        [-1.5572,  0.8368],\n",
              "        [-1.6316,  1.3239],\n",
              "        [ 0.0344, -0.9270],\n",
              "        [ 2.1327, -0.8073],\n",
              "        [-2.4926, -0.3088],\n",
              "        [ 0.1667,  0.5229],\n",
              "        [ 1.7348, -1.4022],\n",
              "        [ 0.6337,  1.2474],\n",
              "        [ 1.0583, -0.7238],\n",
              "        [-0.3534, -0.8935],\n",
              "        [-0.4380,  1.5585],\n",
              "        [-1.1278, -2.0757],\n",
              "        [-0.8642, -0.5864],\n",
              "        [ 0.6662,  0.4008],\n",
              "        [-0.4559, -1.5996],\n",
              "        [ 0.1744,  0.1484],\n",
              "        [ 0.1369,  0.6544],\n",
              "        [-0.6576, -1.0545],\n",
              "        [ 0.6877,  0.5453],\n",
              "        [-0.0465, -0.0137],\n",
              "        [ 0.4353, -0.3045],\n",
              "        [-0.9233,  0.2087]])"
            ]
          },
          "metadata": {},
          "execution_count": 80
        }
      ]
    },
    {
      "cell_type": "code",
      "source": [
        "# To embed the characters in this space (transform, no training yet) I can just index or matrix multiply them\n",
        "\n",
        "emb = C[X]\n",
        "print(emb.shape)\n",
        "# This will give me the 4th row of the C tensor\n",
        "print(C[X][3, 2])\n",
        "print(X[3, 2])\n",
        "print(C[13])"
      ],
      "metadata": {
        "id": "3kowCAedoaNX",
        "outputId": "b38b37cb-f33f-4b87-c4d1-6284f5648d5b",
        "colab": {
          "base_uri": "https://localhost:8080/"
        }
      },
      "execution_count": 81,
      "outputs": [
        {
          "output_type": "stream",
          "name": "stdout",
          "text": [
            "torch.Size([228146, 3, 2])\n",
            "tensor([ 1.0583, -0.7238])\n",
            "tensor(13)\n",
            "tensor([ 1.0583, -0.7238])\n"
          ]
        }
      ]
    },
    {
      "cell_type": "code",
      "source": [
        "# Now we do the linear layer\n",
        "\n",
        "W1 = torch.randn(6, 100) # Weights 3 by 2 inputs, 100 neurons\n",
        "b1 = torch.randn(100)"
      ],
      "metadata": {
        "id": "x6jKOkS3pli3"
      },
      "execution_count": 82,
      "outputs": []
    },
    {
      "cell_type": "code",
      "source": [
        "# However, I can't multiply these matrices just like that. I need first to concatenate the 3D tensor along the second dimension\n",
        "\n",
        "# What I want is this, but it doesn't scale with the dimension\n",
        "# torch.cat([emb[:, 0, :], emb[:, 1, :], emb[:, 2, :]], dim = 1) #Shape should be 32x6\n",
        "\n",
        "concat = torch.cat((torch.unbind(emb, 1)), dim = 1) # Unbind produces a list as I was doing manually in the previous line. Then I concatenate them and the shape is the same.\n",
        "# However this is very inefficient. It's copying and creating new object in memeory"
      ],
      "metadata": {
        "id": "FmWDdjewqgAR"
      },
      "execution_count": 83,
      "outputs": []
    },
    {
      "cell_type": "code",
      "source": [
        "# Additionally, there is a better way to do this in this case.\n",
        "\n",
        "# I can just use view, which is very efficient\n",
        "\n",
        "#concat_view = emb.view(32, 6) # (32, 3*2) And you can check that the results are the same"
      ],
      "metadata": {
        "id": "G39FNlkSrgV4"
      },
      "execution_count": 84,
      "outputs": []
    },
    {
      "cell_type": "code",
      "source": [
        "#concat_view == concat # It's always True"
      ],
      "metadata": {
        "id": "64XpGCf1sdRR"
      },
      "execution_count": 85,
      "outputs": []
    },
    {
      "cell_type": "code",
      "source": [
        "# So then I calculate the hidden states that I want to pass to the tanh\n",
        "\n",
        "h = torch.tanh(emb.view(emb.shape[0], 6) @ W1 + b1) # And this will be 32 x 100"
      ],
      "metadata": {
        "id": "DrTLPpr5sm-Q"
      },
      "execution_count": 86,
      "outputs": []
    },
    {
      "cell_type": "code",
      "source": [
        "# and the softmax layer\n",
        "\n",
        "W2 = torch.randn((100, 27))\n",
        "b2 = torch.randn(27)"
      ],
      "metadata": {
        "id": "oenUEuZqs0ro"
      },
      "execution_count": 87,
      "outputs": []
    },
    {
      "cell_type": "code",
      "source": [
        "logits = h @ W2 + b2"
      ],
      "metadata": {
        "id": "ZtKK2avCtubC"
      },
      "execution_count": 88,
      "outputs": []
    },
    {
      "cell_type": "code",
      "source": [
        "counts = logits.exp()\n",
        "prob = counts / counts.sum(1, keepdims = True)"
      ],
      "metadata": {
        "id": "0VYObkyIt2A5"
      },
      "execution_count": 89,
      "outputs": []
    },
    {
      "cell_type": "code",
      "source": [
        "# So now for each row of the output, I take the probabilities by indexing\n",
        "\n",
        "loss = -prob[torch.arange(228146), Y].log().mean()\n",
        "loss"
      ],
      "metadata": {
        "id": "p4Iqp-djuUep",
        "outputId": "838df8ba-50b4-4214-da03-4cd2cce66c09",
        "colab": {
          "base_uri": "https://localhost:8080/"
        }
      },
      "execution_count": 90,
      "outputs": [
        {
          "output_type": "execute_result",
          "data": {
            "text/plain": [
              "tensor(16.6538)"
            ]
          },
          "metadata": {},
          "execution_count": 90
        }
      ]
    },
    {
      "cell_type": "markdown",
      "source": [
        "### Let's make this presentable for recap"
      ],
      "metadata": {
        "id": "Yf7hac8AwC8S"
      }
    },
    {
      "cell_type": "code",
      "source": [
        "g = torch.Generator().manual_seed(2147483647) # For reproducibility\n",
        "C = torch.randn((27, 10), generator = g)\n",
        "W1 = torch.randn((30, 200), generator = g) # The bottleneck may be the 300 units in the hidden layer OR the 2 dimensional embeddings. I may have to increase to 3, 4, or N dimensional embeddings\n",
        "b1 = torch.randn((200), generator = g)\n",
        "W2 = torch.randn((200, 27), generator = g)\n",
        "b2 = torch.randn(27, generator = g)\n",
        "parameters = [C, W1, b1, W2, b2]"
      ],
      "metadata": {
        "id": "pxfhSQu-wFPa"
      },
      "execution_count": 142,
      "outputs": []
    },
    {
      "cell_type": "code",
      "source": [
        "sum(p.nelement() for p in parameters) # Count the number of parameters"
      ],
      "metadata": {
        "id": "pCJtvmxxwX3a",
        "outputId": "cb0136a9-b6a3-4a10-f968-269c221fe15d",
        "colab": {
          "base_uri": "https://localhost:8080/"
        }
      },
      "execution_count": 143,
      "outputs": [
        {
          "output_type": "execute_result",
          "data": {
            "text/plain": [
              "11897"
            ]
          },
          "metadata": {},
          "execution_count": 143
        }
      ]
    },
    {
      "cell_type": "markdown",
      "source": [
        "### So now, let's use pytorch's functions for optimizing on one batch.\n",
        "### Later, go up and comment the line where I take the first 5 words of the dataset"
      ],
      "metadata": {
        "id": "sjv8yEqZG-nJ"
      }
    },
    {
      "cell_type": "code",
      "source": [
        "# Forward pass\n",
        "# emb = C[X] # shape is (32, 2, 2)\n",
        "# h = torch.tanh(emb.view(-1, 6) @ W1 + b1) # Shape is (32, 100)\n",
        "# logits = h @ W2 + 2 # Shape is (32, 37)\n",
        "# counts = logits.exp()\n",
        "# prob = counts / counts.sum(1, keepdims = True)\n",
        "# loss = -prob[torch.arange(32), Y].log().mean()\n",
        "# loss = F.cross_entropy(logits, Y)\n",
        "# loss"
      ],
      "metadata": {
        "id": "zWihHv4sG-T4"
      },
      "execution_count": 144,
      "outputs": []
    },
    {
      "cell_type": "code",
      "source": [
        "# Make sure everything that is a parameters accepts gradients\n",
        "for p in parameters:\n",
        "    p.requires_grad = True"
      ],
      "metadata": {
        "id": "6719AHJlKFMp"
      },
      "execution_count": 145,
      "outputs": []
    },
    {
      "cell_type": "code",
      "source": [
        "# Create a vector of learning rates exponentially spaced\n",
        "lre = torch.linspace(-3, 0, 1000)\n",
        "lrs = 10**lre"
      ],
      "metadata": {
        "id": "6LhXWNeuwALU"
      },
      "execution_count": 146,
      "outputs": []
    },
    {
      "cell_type": "code",
      "source": [
        "lri = [] # For tracking\n",
        "lossi = [] # For tracking\n",
        "stepi = []"
      ],
      "metadata": {
        "id": "vApkC1h_6FUU"
      },
      "execution_count": 147,
      "outputs": []
    },
    {
      "cell_type": "code",
      "source": [
        "# Now I add the backward pass and put it in the loop, to optimize only on one batch. I should overfit quickly.\n",
        "\n",
        "for i in range(200000):\n",
        "\n",
        "    # build a mini batch. Like this instead of full gradient descent, we have SGD. Iterations are faster but have noise.\n",
        "    ix = torch.randint(0, Xtr.shape[0], (32,)) # the 32 samples is a tuple\n",
        "\n",
        "    # Forward pass\n",
        "    emb = C[Xtr[ix]] # shape is (32, 2, 2)\n",
        "    h = torch.tanh(emb.view(-1, 30) @ W1 + b1) # Shape is (32, 100)\n",
        "    logits = h @ W2 + 2 # Shape is (32, 37)\n",
        "    loss = F.cross_entropy(logits, Ytr[ix])\n",
        "    #print(loss.item())\n",
        "\n",
        "    # Backward pass\n",
        "    for p in parameters:\n",
        "        p.grad = torch.zeros(p.shape, dtype=torch.float32) # Set them to 0. Apparently python doesn't like None insetad of 0\n",
        "    loss.backward() # calculate gradients\n",
        "\n",
        "    # Gradient update stage\n",
        "    lr = 0.1 if i < 100_000 else 0.01\n",
        "    for p in parameters:\n",
        "        p.data += -lr * p.grad # lr is 0.1 here\n",
        "\n",
        "    # track lr and loss\n",
        "    # lri.append(lre[i]) # Use the exponential version\n",
        "    stepi.append(i)\n",
        "    lossi.append(loss.log10().item()) # Nicer plotting\n",
        "\n"
      ],
      "metadata": {
        "id": "_V_MqtEOH6P4"
      },
      "execution_count": 148,
      "outputs": []
    },
    {
      "cell_type": "code",
      "source": [
        "plt.plot(stepi, lossi)"
      ],
      "metadata": {
        "id": "i0yXi9pQ3g3j",
        "outputId": "d78ef2d7-1574-492d-f63b-f69097f877ad",
        "colab": {
          "base_uri": "https://localhost:8080/",
          "height": 447
        }
      },
      "execution_count": 149,
      "outputs": [
        {
          "output_type": "execute_result",
          "data": {
            "text/plain": [
              "[<matplotlib.lines.Line2D at 0x7b286344eec0>]"
            ]
          },
          "metadata": {},
          "execution_count": 149
        },
        {
          "output_type": "display_data",
          "data": {
            "text/plain": [
              "<Figure size 640x480 with 1 Axes>"
            ],
            "image/png": "[encoded data removed]"
          },
          "metadata": {}
        }
      ]
    },
    {
      "cell_type": "code",
      "source": [
        "print(loss.item())"
      ],
      "metadata": {
        "id": "4U4NSFRZwYAb",
        "outputId": "84a695e4-88bd-4b1b-b385-35c5fd2d931e",
        "colab": {
          "base_uri": "https://localhost:8080/"
        }
      },
      "execution_count": 150,
      "outputs": [
        {
          "output_type": "stream",
          "name": "stdout",
          "text": [
            "2.2626535892486572\n"
          ]
        }
      ]
    },
    {
      "cell_type": "code",
      "source": [
        "# And use the validation set to test it\n",
        "emb = C[Xdev] # (32, 3, 2)\n",
        "h = torch.tanh(emb.view(-1, 30) @ W1 + b1) # (32, 100)\n",
        "logits = h @ W2 + b2 # (32, 27)\n",
        "loss = F.cross_entropy(logits, Ydev)\n",
        "loss"
      ],
      "metadata": {
        "id": "STeGpj3e2iNb",
        "outputId": "c6cf811a-86b6-4bfe-99b0-2c40ccf40abe",
        "colab": {
          "base_uri": "https://localhost:8080/"
        }
      },
      "execution_count": 151,
      "outputs": [
        {
          "output_type": "execute_result",
          "data": {
            "text/plain": [
              "tensor(2.4659, grad_fn=<NllLossBackward0>)"
            ]
          },
          "metadata": {},
          "execution_count": 151
        }
      ]
    },
    {
      "cell_type": "code",
      "source": [
        "# Visualize the input embeddings. This helps to see if the bottleneck is the embedding dimension\n",
        "# Only run this with 2D embeddings, or do PCA\n",
        "plt.figure(figsize = (8, 8))\n",
        "plt.scatter(C[:, 0].data, C[:, 1].data, s = 200)\n",
        "for i in range(C.shape[0]):\n",
        "    plt.text(C[i, 0].item(), C[i, 1].item(), itos[i], ha = \"center\", va = \"center\", color = \"white\")\n",
        "plt.grid(\"minor\")\n"
      ],
      "metadata": {
        "id": "zLVrvYWX4cF6",
        "outputId": "2c6b0cd8-d349-4538-f6d2-2e74f74216ee",
        "colab": {
          "base_uri": "https://localhost:8080/",
          "height": 676
        }
      },
      "execution_count": 127,
      "outputs": [
        {
          "output_type": "display_data",
          "data": {
            "text/plain": [
              "<Figure size 800x800 with 1 Axes>"
            ],
            "image/png": "[encoded data removed]"
          },
          "metadata": {}
        }
      ]
    }
  ],
  "metadata": {
    "colab": {
      "provenance": [],
      "include_colab_link": true
    },
    "kernelspec": {
      "display_name": "dbt_13",
      "language": "python",
      "name": "python3"
    },
    "language_info": {
      "codemirror_mode": {
        "name": "ipython",
        "version": 3
      },
      "file_extension": ".py",
      "mimetype": "text/x-python",
      "name": "python",
      "nbconvert_exporter": "python",
      "pygments_lexer": "ipython3",
      "version": "3.10.10"
    },
    "vscode": {
      "interpreter": {
        "hash": "c95f06af5cc293931129b1f6560e12509c2c49fa9f3d6bb87d157ed2f6fb8694"
      }
    }
  },
  "nbformat": 4,
  "nbformat_minor": 0
}
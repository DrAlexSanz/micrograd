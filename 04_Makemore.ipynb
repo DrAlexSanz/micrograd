{
  "cells": [
    {
      "cell_type": "markdown",
      "metadata": {
        "id": "view-in-github",
        "colab_type": "text"
      },
      "source": [
        "<a href=\"https://colab.research.google.com/github/DrAlexSanz/micrograd/blob/main/04_Makemore.ipynb\" target=\"_parent\"><img src=\"https://colab.research.google.com/assets/colab-badge.svg\" alt=\"Open In Colab\"/></a>"
      ]
    },
    {
      "cell_type": "markdown",
      "metadata": {
        "id": "n09nqI5a7dFg"
      },
      "source": [
        "# Goal of this notebook\n",
        "\n",
        "* Following Karpathy's 5th lecture on Makemore. Backprop\n",
        "\n",
        "https://youtu.be/q8SA3rM6ckI?list=PLAqhIrjkxbuWI23v9cThsA9GvCAUhRvKZ&t=5195"
      ]
    },
    {
      "cell_type": "code",
      "source": [
        "import random\n",
        "import torch\n",
        "import torch.nn.functional as F # for later\n",
        "import matplotlib.pyplot as plt\n",
        "%matplotlib inline"
      ],
      "metadata": {
        "id": "QJrqMJYYuT2o"
      },
      "execution_count": 1,
      "outputs": []
    },
    {
      "cell_type": "code",
      "source": [
        "!wget https://raw.githubusercontent.com/karpathy/makemore/master/names.txt"
      ],
      "metadata": {
        "id": "BlP41EL2o1rr",
        "outputId": "15b959fb-6a4e-41e5-f74c-ce06667041b7",
        "colab": {
          "base_uri": "https://localhost:8080/"
        }
      },
      "execution_count": 2,
      "outputs": [
        {
          "output_type": "stream",
          "name": "stdout",
          "text": [
            "--2024-01-19 13:34:44--  https://raw.githubusercontent.com/karpathy/makemore/master/names.txt\n",
            "Resolving raw.githubusercontent.com (raw.githubusercontent.com)... 185.199.108.133, 185.199.109.133, 185.199.110.133, ...\n",
            "Connecting to raw.githubusercontent.com (raw.githubusercontent.com)|185.199.108.133|:443... connected.\n",
            "HTTP request sent, awaiting response... 200 OK\n",
            "Length: 228145 (223K) [text/plain]\n",
            "Saving to: ‘names.txt’\n",
            "\n",
            "\rnames.txt             0%[                    ]       0  --.-KB/s               \rnames.txt           100%[===================>] 222.80K  --.-KB/s    in 0.02s   \n",
            "\n",
            "2024-01-19 13:34:44 (13.2 MB/s) - ‘names.txt’ saved [228145/228145]\n",
            "\n"
          ]
        }
      ]
    },
    {
      "cell_type": "code",
      "source": [
        "words = open(\"names.txt\", \"r\").read().splitlines()\n",
        "words[:8]"
      ],
      "metadata": {
        "id": "oNwydlldkfWG",
        "colab": {
          "base_uri": "https://localhost:8080/"
        },
        "outputId": "44674f2a-e598-4e21-981b-a140d9b78b22"
      },
      "execution_count": 3,
      "outputs": [
        {
          "output_type": "execute_result",
          "data": {
            "text/plain": [
              "['emma', 'olivia', 'ava', 'isabella', 'sophia', 'charlotte', 'mia', 'amelia']"
            ]
          },
          "metadata": {},
          "execution_count": 3
        }
      ]
    },
    {
      "cell_type": "code",
      "source": [
        "len(words)"
      ],
      "metadata": {
        "id": "liNfE2d7kpD2",
        "outputId": "266732e3-3ccb-47fa-dfc4-0291abdcc99c",
        "colab": {
          "base_uri": "https://localhost:8080/"
        }
      },
      "execution_count": 4,
      "outputs": [
        {
          "output_type": "execute_result",
          "data": {
            "text/plain": [
              "32033"
            ]
          },
          "metadata": {},
          "execution_count": 4
        }
      ]
    },
    {
      "cell_type": "code",
      "source": [
        "# build the vocabulary of characters and mappings to/from integers\n",
        "chars = sorted(list(set(''.join(words))))\n",
        "stoi = {s:i+1 for i,s in enumerate(chars)}\n",
        "stoi['.'] = 0\n",
        "itos = {i:s for s,i in stoi.items()}\n",
        "vocab_size = len(itos)\n",
        "print(itos)\n",
        "print(vocab_size)"
      ],
      "metadata": {
        "id": "87WP5bPyl7oO",
        "outputId": "dacd2774-9bd4-4deb-8404-b3fd213e207c",
        "colab": {
          "base_uri": "https://localhost:8080/"
        }
      },
      "execution_count": 5,
      "outputs": [
        {
          "output_type": "stream",
          "name": "stdout",
          "text": [
            "{1: 'a', 2: 'b', 3: 'c', 4: 'd', 5: 'e', 6: 'f', 7: 'g', 8: 'h', 9: 'i', 10: 'j', 11: 'k', 12: 'l', 13: 'm', 14: 'n', 15: 'o', 16: 'p', 17: 'q', 18: 'r', 19: 's', 20: 't', 21: 'u', 22: 'v', 23: 'w', 24: 'x', 25: 'y', 26: 'z', 0: '.'}\n",
            "27\n"
          ]
        }
      ]
    },
    {
      "cell_type": "code",
      "source": [
        "# Same thing but in a function\n",
        "# build the dataset\n",
        "block_size = 3 # context length: how many characters do we take to predict the next one?\n",
        "\n",
        "def build_dataset(words):\n",
        "  X, Y = [], []\n",
        "  for w in words:\n",
        "\n",
        "    #print(w)\n",
        "    context = [0] * block_size\n",
        "    for ch in w + '.':\n",
        "      ix = stoi[ch]\n",
        "      X.append(context)\n",
        "      Y.append(ix)\n",
        "      #print(''.join(itos[i] for i in context), '--->', itos[ix])\n",
        "      context = context[1:] + [ix] # crop and append\n",
        "\n",
        "  X = torch.tensor(X)\n",
        "  Y = torch.tensor(Y)\n",
        "  print(X.shape, Y.shape)\n",
        "  return X, Y\n",
        "\n",
        "random.seed(42)\n",
        "random.shuffle(words)\n",
        "n1 = int(0.8*len(words))\n",
        "n2 = int(0.9*len(words))\n",
        "\n",
        "Xtr, Ytr = build_dataset(words[:n1])\n",
        "Xdev, Ydev = build_dataset(words[n1:n2])\n",
        "Xte, Yte = build_dataset(words[n2:])"
      ],
      "metadata": {
        "colab": {
          "base_uri": "https://localhost:8080/"
        },
        "id": "qC0025221Nqb",
        "outputId": "3f40b6be-a646-4b5f-aa9f-131bfb3a56cc"
      },
      "execution_count": 6,
      "outputs": [
        {
          "output_type": "stream",
          "name": "stdout",
          "text": [
            "torch.Size([182625, 3]) torch.Size([182625])\n",
            "torch.Size([22655, 3]) torch.Size([22655])\n",
            "torch.Size([22866, 3]) torch.Size([22866])\n"
          ]
        }
      ]
    },
    {
      "cell_type": "code",
      "source": [
        "# Useful function to compare gradients with pytorch later\n",
        "\n",
        "def cmp(s, dt, t):\n",
        "    ex = torch.all(dt == t.grad).item()\n",
        "    app = torch.allclose(dt, t.grad)\n",
        "    maxdiff = (dt - t.grad).abs().max().item()\n",
        "    print(f\"{s:15s} | exact: {str(ex):5s} | approx.: {str(app):5s} | maximum difference: {maxdiff}\")\n",
        "    return"
      ],
      "metadata": {
        "id": "D1VnDcJwdWII"
      },
      "execution_count": 7,
      "outputs": []
    },
    {
      "cell_type": "markdown",
      "source": [
        "### MLP definition"
      ],
      "metadata": {
        "id": "Yf7hac8AwC8S"
      }
    },
    {
      "cell_type": "code",
      "source": [
        "# MLP revisited\n",
        "n_embd = 10 # the dimensionality of the character embedding vectors\n",
        "n_hidden = 64 # the number of neurons in the hidden layer of the MLP\n",
        "\n",
        "g = torch.Generator().manual_seed(2147483647) # for reproducibility\n",
        "C  = torch.randn((vocab_size, n_embd),            generator=g)\n",
        "W1 = torch.randn((n_embd * block_size, n_hidden), generator=g) * (5/3)/((n_embd * block_size)**0.5) #* 0.2\n",
        "b1 = torch.randn(n_hidden,                        generator=g) * 0.1\n",
        "W2 = torch.randn((n_hidden, vocab_size),          generator=g) * 0.1\n",
        "b2 = torch.randn(vocab_size,                      generator=g) * 0.1\n",
        "\n",
        "# BatchNorm parameters\n",
        "bngain = torch.ones((1, n_hidden))\n",
        "bnbias = torch.zeros((1, n_hidden)) # This one replaces the bias. It's like an integration constant when you change variables. You replace it by another constant.\n",
        "\n",
        "\n",
        "parameters = [C, W1, W2, bngain, bnbias, b1, b2]\n",
        "print(sum(p.nelement() for p in parameters)) # number of parameters in total\n",
        "for p in parameters:\n",
        "  p.requires_grad = True"
      ],
      "metadata": {
        "id": "pxfhSQu-wFPa",
        "colab": {
          "base_uri": "https://localhost:8080/"
        },
        "outputId": "4c503636-7b00-4c78-bae6-5b830ef57190"
      },
      "execution_count": 8,
      "outputs": [
        {
          "output_type": "stream",
          "name": "stdout",
          "text": [
            "4137\n"
          ]
        }
      ]
    },
    {
      "cell_type": "markdown",
      "source": [
        "### So now, let's use pytorch's functions for optimizing on one batch."
      ],
      "metadata": {
        "id": "sjv8yEqZG-nJ"
      }
    },
    {
      "cell_type": "code",
      "source": [
        "batch_size = 32\n",
        "n = batch_size # a shorter variable also, for convenience\n",
        "# construct a minibatch\n",
        "ix = torch.randint(0, Xtr.shape[0], (batch_size,), generator=g)\n",
        "Xb, Yb = Xtr[ix], Ytr[ix] # batch X,Y"
      ],
      "metadata": {
        "id": "zoh60MmFeRhO"
      },
      "execution_count": 9,
      "outputs": []
    },
    {
      "cell_type": "code",
      "source": [
        "# forward pass, \"chunkated\" into smaller steps that are possible to backward one at a time\n",
        "\n",
        "emb = C[Xb] # embed the characters into vectors\n",
        "embcat = emb.view(emb.shape[0], -1) # concatenate the vectors\n",
        "# Linear layer 1\n",
        "hprebn = embcat @ W1 + b1 # hidden layer pre-activation\n",
        "# BatchNorm layer\n",
        "bnmeani = 1/n*hprebn.sum(0, keepdim=True)\n",
        "bndiff = hprebn - bnmeani\n",
        "bndiff2 = bndiff**2\n",
        "bnvar = 1/(n-1)*(bndiff2).sum(0, keepdim=True) # note: Bessel's correction (dividing by n-1, not n)\n",
        "bnvar_inv = (bnvar + 1e-5)**-0.5\n",
        "bnraw = bndiff * bnvar_inv\n",
        "hpreact = bngain * bnraw + bnbias\n",
        "# Non-linearity\n",
        "h = torch.tanh(hpreact) # hidden layer\n",
        "# Linear layer 2\n",
        "logits = h @ W2 + b2 # output layer\n",
        "# cross entropy loss (same as F.cross_entropy(logits, Yb))\n",
        "logit_maxes = logits.max(1, keepdim=True).values\n",
        "norm_logits = logits - logit_maxes # subtract max for numerical stability\n",
        "counts = norm_logits.exp()\n",
        "counts_sum = counts.sum(1, keepdims=True)\n",
        "counts_sum_inv = counts_sum**-1 # if I use (1.0 / counts_sum) instead then I can't get backprop to be bit exact...\n",
        "probs = counts * counts_sum_inv\n",
        "logprobs = probs.log()\n",
        "loss = -logprobs[range(n), Yb].mean()\n",
        "\n",
        "# PyTorch backward pass\n",
        "for p in parameters:\n",
        "  p.grad = None\n",
        "for t in [logprobs, probs, counts, counts_sum, counts_sum_inv, # afaik there is no cleaner way\n",
        "          norm_logits, logit_maxes, logits, h, hpreact, bnraw,\n",
        "         bnvar_inv, bnvar, bndiff2, bndiff, hprebn, bnmeani,\n",
        "         embcat, emb]:\n",
        "  t.retain_grad()\n",
        "loss.backward()\n",
        "loss\n"
      ],
      "metadata": {
        "id": "_V_MqtEOH6P4",
        "colab": {
          "base_uri": "https://localhost:8080/"
        },
        "outputId": "8d3c68ea-e4f3-4073-e0d6-0729d3a133ab"
      },
      "execution_count": 10,
      "outputs": [
        {
          "output_type": "execute_result",
          "data": {
            "text/plain": [
              "tensor(3.3396, grad_fn=<NegBackward0>)"
            ]
          },
          "metadata": {},
          "execution_count": 10
        }
      ]
    },
    {
      "cell_type": "code",
      "source": [
        "logprobs.shape"
      ],
      "metadata": {
        "colab": {
          "base_uri": "https://localhost:8080/"
        },
        "id": "5Ttqva0IfsM1",
        "outputId": "09fa98e6-a176-41a4-f02f-b3e2ee10619d"
      },
      "execution_count": 11,
      "outputs": [
        {
          "output_type": "execute_result",
          "data": {
            "text/plain": [
              "torch.Size([32, 27])"
            ]
          },
          "metadata": {},
          "execution_count": 11
        }
      ]
    },
    {
      "cell_type": "code",
      "source": [
        "# Exercise 1: backprop through the whole thing manually,\n",
        "# backpropagating through exactly all of the variables\n",
        "# as they are defined in the forward pass above, one by one\n",
        "\n",
        "# dlogprobs\n",
        "dlogprobs = torch.zeros_like(logprobs)\n",
        "dlogprobs[range(n), Yb] = -1.0/n\n",
        "\n",
        "# dprobs\n",
        "dprobs = (1.0 / probs) * dlogprobs # Chain rule\n",
        "\n",
        "# dcounts_sum_inv\n",
        "dcounts_sum_inv = (counts * dprobs).sum(1, keepdim = True) # counts is the local derivative\n",
        "\n",
        "# dcounts\n",
        "dcounts = (counts_sum_inv * dprobs) # The broadcasting is fine this time\n",
        "\n",
        "# dcounts_sum\n",
        "dcounts_sum = (-1.0/counts_sum ** 2) * dcounts_sum_inv\n",
        "\n",
        "# dcounts\n",
        "dcounts += torch.ones_like(counts) * dcounts_sum\n",
        "\n",
        "# dnorm_logits\n",
        "dnorm_logits = (norm_logits.exp()) * dcounts # norm_logits.exp() = counts\n",
        "\n",
        "# dlogits, dlogits_maxes\n",
        "dlogits = dnorm_logits.clone()\n",
        "dlogit_maxes = (-dnorm_logits).sum(1, keepdim = True)\n",
        "\n",
        "# update dlogits with the second branch\n",
        "dlogits += F.one_hot(logits.max(1).indices, num_classes = logits.shape[1]) * dlogit_maxes # and now it's correct\n",
        "\n",
        "# dh\n",
        "dh = dlogits @ W2.T # You can guess these ones just by the dimensions\n",
        "dW2 = h.T @ dlogits\n",
        "db2 = dlogits.sum(0)\n",
        "\n",
        "# dhpreact\n",
        "dhpreact = (1.0 - h**2) * dh\n",
        "\n",
        "# dbn_gain, dbn_bias, dbnraw\n",
        "dbngain = (bnraw * dhpreact).sum(0, keepdim = True)\n",
        "dbnbias = dhpreact.sum(0, keepdim = True)\n",
        "dbnraw = bngain * dhpreact\n",
        "\n",
        "# dbnvar_inv, dbnvar, dbndiff, dbndiff2\n",
        "dbndiff = bnvar_inv * dbnraw\n",
        "dbnvar_inv = (bndiff * dbnraw).sum(0, keepdim = True)\n",
        "dbnvar = -0.5 * (bnvar + 1e-5)**(-1.5) * dbnvar_inv\n",
        "dbndiff2 = (1.0/(n-1)) * torch.ones_like(bndiff2) * dbnvar\n",
        "dbndiff += (2 * bndiff) * dbndiff2\n",
        "\n",
        "# dhprebn, dbnmeani\n",
        "dhprebn = dbndiff.clone()\n",
        "dbnmeani = -dbndiff.sum(0)\n",
        "dhprebn += 1.0/n * (torch.ones_like(hprebn) * dbnmeani)\n",
        "\n",
        "# dembcat, dW1, db1\n",
        "dembcat = dhprebn @ W1.T\n",
        "dW1 = embcat.T @ dhprebn\n",
        "db1 = dhprebn.sum(0)\n",
        "\n",
        "# demb, dC For loop is not smart but it's a small matrix\n",
        "demb = dembcat.view(emb.shape)\n",
        "dC = torch.zeros_like(C)\n",
        "for k in range(Xb.shape[0]):\n",
        "    for j in range(Xb.shape[1]):\n",
        "        ix = Xb[k, j]\n",
        "        dC[ix] += demb[k, j]\n",
        "\n",
        "cmp('logprobs', dlogprobs, logprobs)\n",
        "cmp('probs', dprobs, probs)\n",
        "cmp('counts_sum_inv', dcounts_sum_inv, counts_sum_inv)\n",
        "cmp('counts_sum', dcounts_sum, counts_sum)\n",
        "cmp('counts', dcounts, counts)\n",
        "cmp('norm_logits', dnorm_logits, norm_logits)\n",
        "cmp('logit_maxes', dlogit_maxes, logit_maxes)\n",
        "cmp('logits', dlogits, logits)\n",
        "cmp('h', dh, h)\n",
        "cmp('W2', dW2, W2)\n",
        "cmp('b2', db2, b2)\n",
        "cmp('hpreact', dhpreact, hpreact)\n",
        "cmp('bngain', dbngain, bngain)\n",
        "cmp('bnbias', dbnbias, bnbias)\n",
        "cmp('bnraw', dbnraw, bnraw)\n",
        "cmp('bnvar_inv', dbnvar_inv, bnvar_inv)\n",
        "cmp('bnvar', dbnvar, bnvar)\n",
        "cmp('bndiff2', dbndiff2, bndiff2)\n",
        "cmp('bndiff', dbndiff, bndiff)\n",
        "cmp('bnmeani', dbnmeani, bnmeani)\n",
        "cmp('hprebn', dhprebn, hprebn)\n",
        "cmp('embcat', dembcat, embcat)\n",
        "cmp('W1', dW1, W1)\n",
        "cmp('b1', db1, b1)\n",
        "cmp('emb', demb, emb)\n",
        "cmp('C', dC, C)"
      ],
      "metadata": {
        "colab": {
          "base_uri": "https://localhost:8080/"
        },
        "id": "kibjRqRwejBO",
        "outputId": "eae4a5dd-fd7d-49a2-af12-42b796fd33b7"
      },
      "execution_count": 12,
      "outputs": [
        {
          "output_type": "stream",
          "name": "stdout",
          "text": [
            "logprobs        | exact: True  | approx.: True  | maximum difference: 0.0\n",
            "probs           | exact: True  | approx.: True  | maximum difference: 0.0\n",
            "counts_sum_inv  | exact: True  | approx.: True  | maximum difference: 0.0\n",
            "counts_sum      | exact: True  | approx.: True  | maximum difference: 0.0\n",
            "counts          | exact: True  | approx.: True  | maximum difference: 0.0\n",
            "norm_logits     | exact: True  | approx.: True  | maximum difference: 0.0\n",
            "logit_maxes     | exact: True  | approx.: True  | maximum difference: 0.0\n",
            "logits          | exact: True  | approx.: True  | maximum difference: 0.0\n",
            "h               | exact: True  | approx.: True  | maximum difference: 0.0\n",
            "W2              | exact: True  | approx.: True  | maximum difference: 0.0\n",
            "b2              | exact: True  | approx.: True  | maximum difference: 0.0\n",
            "hpreact         | exact: False | approx.: True  | maximum difference: 4.656612873077393e-10\n",
            "bngain          | exact: False | approx.: True  | maximum difference: 1.862645149230957e-09\n",
            "bnbias          | exact: False | approx.: True  | maximum difference: 3.725290298461914e-09\n",
            "bnraw           | exact: False | approx.: True  | maximum difference: 4.656612873077393e-10\n",
            "bnvar_inv       | exact: False | approx.: True  | maximum difference: 3.725290298461914e-09\n",
            "bnvar           | exact: False | approx.: True  | maximum difference: 6.984919309616089e-10\n",
            "bndiff2         | exact: False | approx.: True  | maximum difference: 2.1827872842550278e-11\n",
            "bndiff          | exact: False | approx.: True  | maximum difference: 4.656612873077393e-10\n",
            "bnmeani         | exact: False | approx.: True  | maximum difference: 3.725290298461914e-09\n",
            "hprebn          | exact: False | approx.: True  | maximum difference: 4.656612873077393e-10\n",
            "embcat          | exact: False | approx.: True  | maximum difference: 1.862645149230957e-09\n",
            "W1              | exact: False | approx.: True  | maximum difference: 9.313225746154785e-09\n",
            "b1              | exact: False | approx.: True  | maximum difference: 3.725290298461914e-09\n",
            "emb             | exact: False | approx.: True  | maximum difference: 1.862645149230957e-09\n",
            "C               | exact: False | approx.: True  | maximum difference: 5.587935447692871e-09\n"
          ]
        }
      ]
    },
    {
      "cell_type": "code",
      "source": [
        "# Exercise 2: backprop through cross_entropy but all in one go\n",
        "# to complete this challenge look at the mathematical expression of the loss,\n",
        "# take the derivative, simplify the expression, and just write it out\n",
        "\n",
        "# forward pass\n",
        "\n",
        "# before:\n",
        "# logit_maxes = logits.max(1, keepdim=True).values\n",
        "# norm_logits = logits - logit_maxes # subtract max for numerical stability\n",
        "# counts = norm_logits.exp()\n",
        "# counts_sum = counts.sum(1, keepdims=True)\n",
        "# counts_sum_inv = counts_sum**-1 # if I use (1.0 / counts_sum) instead then I can't get backprop to be bit exact...\n",
        "# probs = counts * counts_sum_inv\n",
        "# logprobs = probs.log()\n",
        "# loss = -logprobs[range(n), Yb].mean()\n",
        "\n",
        "# now:\n",
        "loss_fast = F.cross_entropy(logits, Yb)\n",
        "print(loss_fast.item(), 'diff:', (loss_fast - loss).item())"
      ],
      "metadata": {
        "id": "zqxCoUSv7oyT",
        "outputId": "41dd72fe-575f-428d-d266-0b8282c4da45",
        "colab": {
          "base_uri": "https://localhost:8080/"
        }
      },
      "execution_count": 13,
      "outputs": [
        {
          "output_type": "stream",
          "name": "stdout",
          "text": [
            "3.3396246433258057 diff: 2.384185791015625e-07\n"
          ]
        }
      ]
    },
    {
      "cell_type": "code",
      "source": [
        "# backward pass\n",
        "\n",
        "# -----------------\n",
        "# YOUR CODE HERE :)\n",
        "dlogits = F.softmax(logits, dim = 1)\n",
        "dlogits[range(n), Yb] -= 1\n",
        "dlogits /= n\n",
        "# -----------------\n",
        "\n",
        "cmp('logits', dlogits, logits) # I can only get approximate to be true, my maxdiff is 6e-9"
      ],
      "metadata": {
        "id": "0j-CVYHz7zAF",
        "outputId": "6f8ee4bb-829d-454a-a854-79de87cb0cdd",
        "colab": {
          "base_uri": "https://localhost:8080/"
        }
      },
      "execution_count": 14,
      "outputs": [
        {
          "output_type": "stream",
          "name": "stdout",
          "text": [
            "logits          | exact: False | approx.: True  | maximum difference: 6.28642737865448e-09\n"
          ]
        }
      ]
    }
  ],
  "metadata": {
    "colab": {
      "provenance": [],
      "include_colab_link": true
    },
    "kernelspec": {
      "display_name": "dbt_13",
      "language": "python",
      "name": "python3"
    },
    "language_info": {
      "codemirror_mode": {
        "name": "ipython",
        "version": 3
      },
      "file_extension": ".py",
      "mimetype": "text/x-python",
      "name": "python",
      "nbconvert_exporter": "python",
      "pygments_lexer": "ipython3",
      "version": "3.10.10"
    },
    "vscode": {
      "interpreter": {
        "hash": "c95f06af5cc293931129b1f6560e12509c2c49fa9f3d6bb87d157ed2f6fb8694"
      }
    }
  },
  "nbformat": 4,
  "nbformat_minor": 0
}